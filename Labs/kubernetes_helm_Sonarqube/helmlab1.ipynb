{
 "cells": [
  {
   "cell_type": "markdown",
   "id": "305ff1dd-c331-48bd-a2cb-2f17cc31b35b",
   "metadata": {},
   "source": [
    "<link rel=\"stylesheet\" type=\"text/css\" href=\"css/bootstrap.min.css\">\n",
    "<link rel=\"stylesheet\" type=\"text/css\" href=\"css/fontawesome.min.css\">\n",
    "<style type=\"text/css\" media=\"screen\">\n",
    "a:link { color:#FFFFFF; text-decoration: none; }\n",
    "a:visited { color:#FFFFFF; text-decoration: none; }\n",
    "a:hover { color:#FFFFFF; text-decoration: none; }\n",
    "a:active { color:#FFFFFF; text-decoration: underline; }\n",
    "</style>\n",
    "\n",
    "# HELM and SonarQube\n",
    "<img src=\"imgs/helm.svg\" alt=\"drawing\" >\n",
    "<br>\n",
    "\n",
    "## Using SonarQube DCE on kubernetes cluster\n",
    "\n",
    "#### What is HELM\n",
    "<br>\n",
    "<br>\n",
    "\n",
    "Emmanuel COLUSSI – Sales Engineer\n",
    "\n",
    "\n",
    "\n",
    "\n",
    "\n",
    "\n"
   ]
  },
  {
   "cell_type": "markdown",
   "id": "95b984a9-c853-4f6c-a348-258d5bd1f943",
   "metadata": {},
   "source": [
    "<br>\n",
    "<br>\n",
    "<br>\n",
    "<br>\n",
    "\n",
    "\n",
    "## <i class=\"far fa-2x fa-comment-dots\" style=\"color:#FFAD33;\"></i>&nbsp;&nbsp;What is HELM"
   ]
  },
  {
   "cell_type": "markdown",
   "id": "bd313a85-ed07-42a6-83b6-5fb780e70fc1",
   "metadata": {},
   "source": [
    "Helm is a tool that automates the creation, packaging, configuration, and deployment of Kubernetes applications by combining your configuration files into a single reusable package.\n",
    "\n",
    "In a microservice architecture, you create more microservices as the application grows, making it increasingly difficult to manage. Kubernetes, an open source container orchestration technology, simplifies the process by grouping multiple microservices into a single deployment. Yet managing Kubernetes applications across the development lifecycle brings its own set of challenges, including version management, resource allocation, updating, and rollbacks.\n",
    "\n",
    "Helm provides one of the most accessible solutions to this problem, making deployments more consistent, repeatable, and reliable. In this article, you’ll learn about Helm and its use cases, as well as how to decide if you should adopt it for your Kubernetes projects.\n"
   ]
  },
  {
   "cell_type": "markdown",
   "id": "8be79916-a2b4-4511-98d6-01065d247689",
   "metadata": {
    "tags": []
   },
   "source": [
    "## <i class=\"far fa-2x fa-comment-dots\" style=\"color:#FFAD33;\"></i>&nbsp;&nbsp;Helm charts"
   ]
  },
  {
   "cell_type": "markdown",
   "id": "eeed6bf2-7f82-471e-b4cd-2f7460f2c012",
   "metadata": {},
   "source": [
    "A Helm chart is a package that contains all the necessary resources to deploy an application to a Kubernetes cluster. This includes YAML configuration files for deployments, services, secrets, and config maps that define the desired state of your application.\n",
    "\n",
    "A Helm chart packages together YAML files and templates that can be used to generate additional configuration files based on parametrized values. This allows you to customize configuration files to suit different environments and to create reusable configurations for use across multiple deployments. Additionally, each Helm chart can be versioned and managed independently, making it easy to maintain multiple versions of an application with different configurations."
   ]
  },
  {
   "cell_type": "markdown",
   "id": "04f08cb1-bd2c-4eb4-a823-b63faa1ddecf",
   "metadata": {},
   "source": [
    "## <i class=\"far fa-2x fa-comment-dots\" style=\"color:#FFAD33;\"></i>&nbsp;&nbsp;Architecture"
   ]
  },
  {
   "cell_type": "markdown",
   "id": "cbb45490-af75-4234-9089-4d2d0add36fd",
   "metadata": {},
   "source": [
    "Helm’s architecture has two main components: client and library.\n",
    "\n",
    "A Helm client is a command-line utility for end users to control local chart development and manage repositories and releases. \n",
    "The Helm library does all the heavy lifting. It contains the actual code to perform the operations specified in the Helm command. The combination of config and chart files to create any release is handled by the Helm library.\n",
    "\n",
    "The Helm application library uses charts to define, create, install, and upgrade Kubernetes applications. Helm charts allow you to manage Kubernetes manifests without using the Kubernetes command-line interface (CLI) or remembering complicated Kubernetes commands to control the cluster.\n",
    "\n",
    "HELM uses direct API communication to interact with the Kubernetes API server."
   ]
  },
  {
   "cell_type": "markdown",
   "id": "e3387da4-411a-4ced-8850-d372f1c24f15",
   "metadata": {},
   "source": [
    "<img src=\"imgs/helmarchi.png\" alt=\"drawing\" >"
   ]
  },
  {
   "cell_type": "markdown",
   "id": "3f00123c-4901-4b0c-aad2-b245e2974c89",
   "metadata": {},
   "source": [
    "## <i class=\"far fa-2x fa-comment-dots\" style=\"color:#FFAD33;\"></i>&nbsp;&nbsp;The basic directory structure of a chart"
   ]
  },
  {
   "cell_type": "markdown",
   "id": "e35371e8-c339-4a66-a906-965f0daef358",
   "metadata": {},
   "source": [
    "The charts are grouped in the directories with the files under the following tree structure. This directory will be packaged in a versioned file ready to be deployed. The name of the folder is the name of the chart (without the version information). Therefore, a chart describing Memcached will be stored in the memcached/ directory.\n",
    "\n",
    "In this directory, Helm will expect a structure that looks like this:\n",
    "\n",
    "<i class=\"fas fa-hand-point-right\" style=\"color:#FFAD33;\"></i><b>&nbsp;&nbsp;templates/:</b> this directory contains the template files combined with the configuration values (from + values.yaml + and the command line) and rendered in the Kubernetes manifests. The templates use the Go programming language template format.\n",
    "\n",
    "<i class=\"fas fa-hand-point-right\" style=\"color:#FFAD33;\"></i><b>&nbsp;&nbsp;Charts/:</b> optional, manually managed diagram dependencies can be placed in this directory, although it is generally best to use + Requirements.yaml + to dynamically link dependencies.\n",
    "\n",
    "<i class=\"fas fa-hand-point-right\" style=\"color:#FFAD33;\"></i><b>&nbsp;&nbsp;crds:</b> optional, Kubernetes Custom Resource Definitions\n",
    "\n",
    "<i class=\"fas fa-hand-point-right\" style=\"color:#FFAD33;\"></i><b>&nbsp;&nbsp;Chart.yaml:</b> a YAML file with metadata about the chart, such as chart name and version, maintainer information, relevant website, and search keywords.\n",
    "\n",
    "<i class=\"fas fa-hand-point-right\" style=\"color:#FFAD33;\"></i><b>&nbsp;&nbsp;README.md:</b> a readme file containing information for the users of the chart.\n",
    "\n",
    "<i class=\"fas fa-hand-point-right\" style=\"color:#FFAD33;\"></i><b>&nbsp;&nbsp;LICENSE:</b> a plain text license for the chart.\n",
    "\n",
    "<i class=\"fas fa-hand-point-right\" style=\"color:#FFAD33;\"></i><b>&nbsp;&nbsp;values.yaml:</b> a YAML file containing the default configuration values of the chart.\n"
   ]
  },
  {
   "cell_type": "markdown",
   "id": "49c6acef-2675-4ef1-9888-e55baac5fcd5",
   "metadata": {},
   "source": [
    "<br>\n",
    "<img src=\"imgs/repchart.png\" alt=\"drawing\" >"
   ]
  },
  {
   "cell_type": "markdown",
   "id": "d6092ad0-1c08-4717-bd0c-0485e09ac4a7",
   "metadata": {},
   "source": [
    "<br>\n",
    "<i class=\"fas fa-hand-point-right\" style=\"color:#FFAD33;\"></i><b>&nbsp;&nbsp;File Chart.yaml</b>"
   ]
  },
  {
   "cell_type": "markdown",
   "id": "aa1d1a37-90ce-40d1-8515-581eca866995",
   "metadata": {},
   "source": [
    "This file contains many optional values such as the dependencies of this chart with other charts or the people who are in charge of the maintenance of the chart."
   ]
  },
  {
   "cell_type": "markdown",
   "id": "624666b0-a658-443e-8f12-4e5af6fc6cf6",
   "metadata": {},
   "source": [
    "<i class=\"fas fa-hand-point-right\" style=\"color:#FFAD33;\"></i><b>&nbsp;&nbsp;Templates folder</b>"
   ]
  },
  {
   "cell_type": "markdown",
   "id": "a8fa7702-9628-4b00-8116-94a5702289ba",
   "metadata": {},
   "source": [
    "Helm chart templates are written in the Go template language\n",
    "All the template files are stored in this directory. When Helm processes charts, it passes all the files in this directory through the template creation engine."
   ]
  },
  {
   "cell_type": "markdown",
   "id": "e0631b5e-80bc-47db-be3c-39ee673eed01",
   "metadata": {},
   "source": [
    "<br>\n",
    "<img src=\"imgs/templatehelm.png\" alt=\"drawing\" >"
   ]
  },
  {
   "cell_type": "markdown",
   "id": "2de9f9a2-682c-4f96-b42b-672693f4115b",
   "metadata": {},
   "source": [
    "<i class=\"fas fa-hand-point-right\" style=\"color:#FFAD33;\"></i><b>&nbsp;&nbsp;File Values.yaml</b>"
   ]
  },
  {
   "cell_type": "markdown",
   "id": "c213640b-edb1-4d84-9368-e2babddc5bea",
   "metadata": {},
   "source": [
    "The values in this file depend exclusively on the Helm variables that we have used in the files in the Templates directory.\n",
    "\n",
    "**Values.yaml** must contain all the necessary values for these variables, so that the chart can be used without the need to modify any variable."
   ]
  },
  {
   "cell_type": "markdown",
   "id": "c3243b85-d0da-460f-a3b6-3bd548dca867",
   "metadata": {},
   "source": [
    "</br></br>\n",
    "<div class=\"alert\" style=\"background-color:#FFAD33;color:#fff;width:100%\" role=\"alert\">\n",
    "  <p style=\"font-size:20px;display: block;text-align:center;margin-left: auto;margin-right: auto;\"><i class=\"fas fa-4x fa-smile\"></i>&nbsp;&nbsp;Congratulations on completing the module&nbsp;&nbsp;<i class=\"fas fa-4x fa-praying-hands\"></i></p>\n",
    "</div>"
   ]
  },
  {
   "cell_type": "markdown",
   "id": "3e3ec3ba-9131-4473-a633-fbbab2ac0d97",
   "metadata": {},
   "source": [
    "<br>\n",
    "\n",
    "## <i class=\"fas fa-2x fa-map-marker-alt\" style=\"color:#FFAD33;\"></i>&nbsp;&nbsp;Next Steps\n",
    "\n",
    "Deploy SonarQube DCE"
   ]
  },
  {
   "cell_type": "markdown",
   "id": "86a80af1-2118-419b-b2d5-b45cdf2525f9",
   "metadata": {},
   "source": [
    "<a href=\"helmlab2.ipynb#comp\" target=\"New\" title=\"Next: Deploy SonarQube DCE\"><button type=\"submit\"  class=\"btn btn-lg btn-block\" style=\"background-color:#FFAD33;color:#fff;position:relative;width:10%; height: 30px;float: right;\"><b>Next</b></button></a>\n",
    " <a href=\"helmintro.ipynb#begin\" target=\"New\" title=\"Back: Introduction\"><button type=\"submit\"  class=\"btn btn-lg btn-block\" style=\"background-color:#FFAD33;color:#fff;position:relative;width:10%; height: 30px;float: left;\"><b>Back</b></button></a>"
   ]
  }
 ],
 "metadata": {
  "kernelspec": {
   "display_name": "Bash",
   "language": "bash",
   "name": "bash"
  },
  "language_info": {
   "codemirror_mode": "shell",
   "file_extension": ".sh",
   "mimetype": "text/x-sh",
   "name": "bash"
  }
 },
 "nbformat": 4,
 "nbformat_minor": 5
}
