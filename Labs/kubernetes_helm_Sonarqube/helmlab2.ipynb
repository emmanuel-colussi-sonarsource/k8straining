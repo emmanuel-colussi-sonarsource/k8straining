{
 "cells": [
  {
   "cell_type": "markdown",
   "id": "ee24fc06-3bfe-4250-ba10-87791ae53434",
   "metadata": {},
   "source": [
    "<link rel=\"stylesheet\" type=\"text/css\" href=\"css/bootstrap.min.css\">\n",
    "<link rel=\"stylesheet\" type=\"text/css\" href=\"css/fontawesome.min.css\">\n",
    "<style type=\"text/css\" media=\"screen\">\n",
    "a:link { color:#FFFFFF; text-decoration: none; }\n",
    "a:visited { color:#FFFFFF; text-decoration: none; }\n",
    "a:hover { color:#FFFFFF; text-decoration: none; }\n",
    "a:active { color:#FFFFFF; text-decoration: underline; }\n",
    "</style>\n",
    "\n",
    "# HELM and SonarQube\n",
    "<img src=\"imgs/helm.svg\" alt=\"drawing\" >\n",
    "<br>\n",
    "\n",
    "## Using SonarQube DCE on kubernetes cluster\n",
    "\n",
    "#### Deploy SonarQube DCE\n",
    "<br>\n",
    "<br>\n",
    "\n",
    "Emmanuel COLUSSI – Sales Engineer"
   ]
  },
  {
   "cell_type": "markdown",
   "id": "ff9ed1af-5cc5-470c-8842-8070c9892989",
   "metadata": {},
   "source": [
    "<br>\n",
    "<br>\n",
    "<br>\n",
    "\n",
    "## <i class=\"far fa-2x fa-comment-dots\" style=\"color:#FFAD33;\"></i>&nbsp;&nbsp;Notice"
   ]
  },
  {
   "cell_type": "markdown",
   "id": "5d2d1a7c-db58-4a66-a12c-b7d3ffe198ad",
   "metadata": {},
   "source": [
    "<p>In this module you will create a namespace with the name dcestudentX (replace X with the number you were given when you logged in, example : (<b>dcestudent1</b>).</p>\n",
    "<p>In this namespace you will: </p>\n",
    "\n",
    "- Deploy a PostgreSQL instance \n",
    "- Deploy a SonarQube DCE instance   \n",
    "\n",
    "<p>We will connect to an AKS cluster with 2 nodes.We will use the command line tool (<b>kubectl</b>)</p>\n",
    "<p>Kubernetes provides a command line tool for communicating with a kubernetes cluster's control plane,using the kubernetes API<p>"
   ]
  },
  {
   "cell_type": "markdown",
   "id": "221660a3-aa10-47ff-afec-30cba9462b9f",
   "metadata": {},
   "source": [
    "<i class=\"fas fa-2x fa-walking\" style=\"color:#FFAD33;\"></i>&nbsp;&nbsp;STEP 1: create a namespace"
   ]
  },
  {
   "cell_type": "markdown",
   "id": "abe0c8a2-2fa5-43e0-9b6e-8ef6d3afb832",
   "metadata": {},
   "source": [
    "<div class=\"alert\" style=\"background-color:#FFAD33;color:#fff;\" role=\"alert\">\n",
    "  <p class=\"mb-0\"><i class=\"fas fa-sync-alt\"></i>&nbsp;&nbsp;Run the commands in the next Cells with button , before replace X by your stundent number <i class=\"fas fa-play\"></i> </p>\n",
    "   <hr>\n",
    "  <p class=\"mb-0\">This command create a namespace</p>\n",
    "  \n",
    "</div>"
   ]
  },
  {
   "cell_type": "code",
   "execution_count": null,
   "id": "624a29c4-fbcd-4ec9-9e7c-c319116394bd",
   "metadata": {},
   "outputs": [],
   "source": [
    "kubectl create ns dcestudentX"
   ]
  },
  {
   "cell_type": "markdown",
   "id": "079cc2f3-7b6b-46e4-8c47-9d1a0690888b",
   "metadata": {},
   "source": [
    "<i class=\"fa fa-external-link\" style=\"color:#FFAD33;\" aria-hidden=\"true\"></i>&nbsp;&nbsp;Check that namespace was created successfully"
   ]
  },
  {
   "cell_type": "markdown",
   "id": "d306e317-0671-4abf-be25-e50c89675a4a",
   "metadata": {},
   "source": [
    "<div class=\"alert\" style=\"background-color:#FFAD33;color:#fff;\" role=\"alert\">\n",
    "  <p class=\"mb-0\"><i class=\"fas fa-sync-alt\"></i>&nbsp;&nbsp;Run the commands in the next Cells with button <i class=\"fas fa-play\"></i> </p>\n",
    "   <hr>\n",
    "  <p class=\"mb-0\">This command list a namespace</p>\n",
    "  \n",
    "</div>"
   ]
  },
  {
   "cell_type": "code",
   "execution_count": null,
   "id": "90ff8763-bcfd-4a4a-bc92-a3c09a39d7de",
   "metadata": {
    "tags": []
   },
   "outputs": [],
   "source": [
    "kubectl get ns dcestudentX"
   ]
  },
  {
   "cell_type": "markdown",
   "id": "cc44d20a-9290-45c6-9f66-433c6b7ae996",
   "metadata": {},
   "source": [
    "<div class=\"alert\" style=\"background-color:#FFAD33;color:#fff;\" role=\"alert\">\n",
    "  <p class=\"mb-0\"><i class=\"fas fa-sync-alt\"></i>&nbsp;&nbsp;Run the commands in the next Cells with button, before replace X by your stundent number <i class=\"fas fa-play\"></i> </p>\n",
    "   <hr>\n",
    "  <p class=\"mb-0\">This command list export your NAMESPACE</p>\n",
    "  \n",
    "</div>"
   ]
  },
  {
   "cell_type": "code",
   "execution_count": null,
   "id": "e45a8700-e701-4c5e-af37-cc366dee3a70",
   "metadata": {},
   "outputs": [],
   "source": [
    "export NAMESPACE=\"dcestudentX\""
   ]
  },
  {
   "cell_type": "markdown",
   "id": "f20f1ae0-95e7-42bb-87b6-2c3a475014cd",
   "metadata": {},
   "source": [
    "<i class=\"fas fa-2x fa-walking\" style=\"color:#FFAD33;\"></i>&nbsp;&nbsp;STEP 2: install HELM SonarQube repo"
   ]
  },
  {
   "cell_type": "code",
   "execution_count": null,
   "id": "2c56a4cb-c964-4e38-b74b-64fa13e0ded8",
   "metadata": {},
   "outputs": [],
   "source": [
    "helm repo add sonarqube https://SonarSource.github.io/helm-chart-sonarqube\n",
    "helm repo update"
   ]
  },
  {
   "cell_type": "markdown",
   "id": "e760cf29-c8bc-4c1a-a7cf-136265444f93",
   "metadata": {},
   "source": [
    "<i class=\"fa fa-external-link\" style=\"color:#FFAD33;\" aria-hidden=\"true\"></i>&nbsp;&nbsp;Check that repo was installed successfully"
   ]
  },
  {
   "cell_type": "code",
   "execution_count": null,
   "id": "1f09dee7-65f4-415c-b6b6-670f6bd9a2ef",
   "metadata": {},
   "outputs": [],
   "source": [
    "helm repo list"
   ]
  },
  {
   "cell_type": "markdown",
   "id": "2ae7b5fb-2764-4141-a61e-2094d185ebcc",
   "metadata": {},
   "source": [
    "<i class=\"fas fa-2x fa-walking\" style=\"color:#FFAD33;\"></i>&nbsp;&nbsp;STEP 3: Deploy SonarQube DCE"
   ]
  },
  {
   "cell_type": "markdown",
   "id": "dd29f9ea-8be3-4dee-9442-94ef7cd51710",
   "metadata": {},
   "source": [
    "<i class=\"fas fa-hand-point-right\" style=\"color:#FFAD33;\"></i>&nbsp;&nbsp; deploying SonarQube DCE you must create a secret that allows the application pod to communicate with each other"
   ]
  },
  {
   "cell_type": "markdown",
   "id": "72361c36-5f43-4d87-9b77-64119d9db2a2",
   "metadata": {},
   "source": [
    "<div class=\"alert\" style=\"background-color:#FFAD33;color:#fff;\" role=\"alert\">\n",
    "  <p class=\"mb-0\"><i class=\"fas fa-sync-alt\"></i>&nbsp;&nbsp;Run the commands in the next Cells with button <i class=\"fas fa-play\"></i> </p>\n",
    "   <hr>\n",
    "    <p class=\"mb-0\">This command create a <b>secret</b></p>\n",
    "  \n",
    "</div>"
   ]
  },
  {
   "cell_type": "code",
   "execution_count": null,
   "id": "00c73456-10f9-448c-a165-2239980600f0",
   "metadata": {},
   "outputs": [],
   "source": [
    "export JWT_SECRET=$(echo -n \"your_secret\" | openssl dgst -sha256 -hmac \"your_key\" -binary | base64)"
   ]
  },
  {
   "cell_type": "markdown",
   "id": "0c8479d9-03c2-431b-bdca-593e76c8da73",
   "metadata": {},
   "source": [
    "we will customize our **values.yaml** file to : \n",
    "\n",
    "- set the SonarQube service as a loadbalancer\n",
    "- indicate the storage class we will use for the search pods, application and database\n",
    "- number of application pod"
   ]
  },
  {
   "cell_type": "raw",
   "id": "31e2349c-6925-42e0-8f5c-a0d5d5cb77b9",
   "metadata": {},
   "source": [
    "service:\n",
    "  type: ClusterIP\n",
    "  externalPort: 8001\n",
    "  internalPort: 9000\n",
    "  labels:\n",
    "  annotations: {}\n",
    "\n",
    "ApplicationNodes:\n",
    " replicaCount: 1 \n",
    "\n",
    "postgresql:\n",
    " persistence:\n",
    "    storageClass: partner-sc \n",
    "\n",
    "searchNodes:\n",
    " persistence:\n",
    "  storageClass: partner-sc"
   ]
  },
  {
   "cell_type": "markdown",
   "id": "10060342-e270-4d14-879b-03bb44cf8aab",
   "metadata": {},
   "source": [
    "<div class=\"alert\" style=\"background-color:#FFAD33;color:#fff;\" role=\"alert\">\n",
    "  <p class=\"mb-0\"><i class=\"fas fa-sync-alt\"></i>&nbsp;&nbsp;Run the commands in the next Cells with button <i class=\"fas fa-play\"></i> </p>\n",
    "   <hr>\n",
    "  <p class=\"mb-0\">This command deploy SonarQube DCE</p>\n",
    "  \n",
    "</div>"
   ]
  },
  {
   "cell_type": "code",
   "execution_count": null,
   "id": "5e1d450e-d03e-4fe9-8836-466ea6513b63",
   "metadata": {},
   "outputs": [],
   "source": [
    "helm upgrade --install -n $NAMESPACE sonarqube sonarqube/sonarqube-dce --set ApplicationNodes.jwtSecret=$JWT_SECRET -f scripts/values.yaml"
   ]
  },
  {
   "cell_type": "markdown",
   "id": "6cc1ea2c-44df-4f8f-9e61-706fe1780adc",
   "metadata": {},
   "source": [
    "<br>\n",
    "<i class=\"fas fa-2x fa-smile\" style=\"color:#FFAD33;\"></i>&nbsp;&nbsp;Go to drink a cup of coffee.... <i class=\"fa fa-coffee\" aria-hidden=\"true\" style=\"color:#FFAD33;\"></i><img src=\"imgs/cofee1.png\" alt=\"csi logo\" width=\"200px\" height=\"181px\" style=\"float: right;\">\n",
    "</br></br>\n",
    "<p><i class=\"fas fa-2x fa-info-circle\" style=\"color:#FFAD33;\"></i>&nbsp;&nbsp;In approximately 3 to 5 minutes, SonarQube  is deployed : <p>\n",
    "    \n",
    "> Release \"sonarqube\" does not exist. Installing it now.\n",
    "> NAME: sonarqube\n",
    "> LAST DEPLOYED: Thu Apr 13 12:01:00 2023\n",
    "> NAMESPACE: dcestudent10\n",
    "> STATUS: deployed\n",
    "> REVISION: 1\n",
    "> NOTES:\n",
    "> 1. Get the application URL by running these commands:\n",
    ">     NOTE: It may take a few minutes for the LoadBalancer IP to be available.\n",
    "           You can watch the status of by running 'kubectl get svc -w sonarqube-sonarqube-dce'\n",
    ">  export SERVICE_IP=$(kubectl get svc --namespace dcestudent10 sonarqube-sonarqube-dce -o jsonpath='{.status.loadBalancer.ingress[0].ip}')\n",
    ">  echo http://$SERVICE_IP:9000\n",
    "    "
   ]
  },
  {
   "cell_type": "markdown",
   "id": "349f7fa3-16c5-4c74-821a-d09f663925c6",
   "metadata": {},
   "source": [
    "<i class=\"fa fa-external-link\" style=\"color:#FFAD33;\" aria-hidden=\"true\"></i>&nbsp;&nbsp;Check that SonarQube DCE is deployed successfully"
   ]
  },
  {
   "cell_type": "markdown",
   "id": "bd0dc025-9ec5-4244-83fa-85f17ec09bf0",
   "metadata": {},
   "source": [
    "<div class=\"alert\" style=\"background-color:#FFAD33;color:#fff;\" role=\"alert\">\n",
    "  \n",
    "  <p><i class=\"fas fa-eye\"></i>&nbsp;&nbsp;Check that SonarQube DCE deployment is successfully </p>\n",
    "    <hr>\n",
    "    <p class=\"mb-0\"><i class=\"fas fa-sync-alt\"></i>&nbsp;&nbsp;Run the following command in the next Cell with button <i class=\"fas fa-play\"></i> </p>\n",
    " \n",
    "</div>"
   ]
  },
  {
   "cell_type": "code",
   "execution_count": null,
   "id": "5cf5068c-c6c8-408c-b4cf-f8b05742f087",
   "metadata": {
    "tags": []
   },
   "outputs": [],
   "source": [
    "kubectl get all -n $NAMESPACE"
   ]
  },
  {
   "cell_type": "markdown",
   "id": "9da92afa-7bf0-4172-adc3-bb0b5fdee8ac",
   "metadata": {},
   "source": [
    "<i class=\"fas fa-2x fa-walking\" style=\"color:#FFAD33;\"></i>&nbsp;&nbsp;STEP 4: Add entry in Ingress controler"
   ]
  },
  {
   "cell_type": "markdown",
   "id": "eb4f5fb4-6474-490f-a286-55f3ea736ce0",
   "metadata": {},
   "source": [
    "<i class=\"fas fa-hand-point-right\" style=\"color:#FFAD33;\"></i>&nbsp;&nbsp; Add a certificate in namespace"
   ]
  },
  {
   "cell_type": "raw",
   "id": "a8f3a050-9068-48fb-b692-3efce97319f1",
   "metadata": {},
   "source": [
    "apiVersion: cert-manager.io/v1\n",
    "kind: Certificate\n",
    "metadata:\n",
    " name: se.sonarlab-com-cert\n",
    "spec:\n",
    " secretName: se.sonarlab-com-cert-secret\n",
    " isCA: true\n",
    " commonName: '*.se.sonarlab.com'\n",
    " dnsNames:\n",
    "  - se.sonarlab.com\n",
    "  - '*.se.sonarlab.com'\n",
    " issuerRef:\n",
    "  name: se.sonarlab-ca-issuer\n",
    "  kind: ClusterIssuer"
   ]
  },
  {
   "cell_type": "markdown",
   "id": "1f818260-77a5-448b-999c-ae11cf4a9589",
   "metadata": {},
   "source": [
    "<div class=\"alert\" style=\"background-color:#FFAD33;color:#fff;\" role=\"alert\">\n",
    "  <p class=\"mb-0\"><i class=\"fas fa-sync-alt\"></i>&nbsp;&nbsp;Run the commands in the next Cells with button <i class=\"fas fa-play\"></i> </p>\n",
    "   <hr>\n",
    "  <p class=\"mb-0\">This command create a certificate in your namespace for the domain : se.sonarlab.com</p>\n",
    "  \n",
    "</div>"
   ]
  },
  {
   "cell_type": "code",
   "execution_count": null,
   "id": "0b654381-b464-4b16-998a-93231f6b4901",
   "metadata": {},
   "outputs": [],
   "source": [
    "kubectl -n $NAMESPACE -f scripts/certif_namespaces.yaml "
   ]
  },
  {
   "cell_type": "markdown",
   "id": "d62a114b-d26e-4455-a1ad-cc61e966999e",
   "metadata": {},
   "source": [
    "<div class=\"alert\" style=\"background-color:#FFAD33;color:#fff;\" role=\"alert\">\n",
    "  \n",
    "  <p><i class=\"fas fa-eye\"></i>&nbsp;&nbsp;Check that certificate is created</p>\n",
    "    <hr>\n",
    "    <p class=\"mb-0\"><i class=\"fas fa-sync-alt\"></i>&nbsp;&nbsp;Run the following command in the next Cell with button <i class=\"fas fa-play\"></i> </p>\n",
    " \n",
    "</div>"
   ]
  },
  {
   "cell_type": "code",
   "execution_count": null,
   "id": "7620cfd6-91cb-4618-9ee6-60496b6023e9",
   "metadata": {},
   "outputs": [],
   "source": [
    "kubectl -n $NAMESPACE get certificate"
   ]
  },
  {
   "cell_type": "markdown",
   "id": "d18ca5d8-7ce7-4a50-8c0e-6598b49dc8f1",
   "metadata": {},
   "source": [
    "<i class=\"fas fa-hand-point-right\" style=\"color:#FFAD33;\"></i>&nbsp;&nbsp; Add entry in Ingress controler"
   ]
  },
  {
   "cell_type": "raw",
   "id": "f3ba9f71-a8fe-4864-bc53-fa097361b04a",
   "metadata": {},
   "source": [
    "apiVersion: networking.k8s.io/v1\n",
    "kind: Ingress\n",
    "metadata:\n",
    " name: sonarqube-sonarqube-10\n",
    " annotations:\n",
    "  nginx.ingress.kubernetes.io/proxy-body-size: 64m\n",
    "spec:\n",
    " ingressClassName: nginx\n",
    " rules:\n",
    "   - host: sonarqube10.se.sonarlab.com\n",
    "     http:\n",
    "      paths:\n",
    "       - pathType: Prefix\n",
    "         backend:\n",
    "           service:\n",
    "             name: sonarqube-sonarqube-dce\n",
    "             port:\n",
    "              number: 800X\n",
    "         path: /\n",
    " tls:\n",
    "   - hosts:\n",
    "     - sonarqube10.se.sonarlab.com\n",
    "     secretName: se.sonarlab-com-cert-secret"
   ]
  },
  {
   "cell_type": "markdown",
   "id": "028e6342-1926-4a2f-a4f9-2770b12ee6d5",
   "metadata": {},
   "source": [
    "<div class=\"alert\" style=\"background-color:#FFAD33;color:#fff;\" role=\"alert\">\n",
    "  <p class=\"mb-0\"><i class=\"fas fa-sync-alt\"></i>&nbsp;&nbsp;Run the commands in the next Cells with button <i class=\"fas fa-play\"></i> </p>\n",
    "   <hr>\n",
    "  <p class=\"mb-0\">This command create a entry in Ingress controler</p>\n",
    "  \n",
    "</div>"
   ]
  },
  {
   "cell_type": "code",
   "execution_count": null,
   "id": "de36915c-a7f5-4aa7-8032-a15023541aa7",
   "metadata": {},
   "outputs": [],
   "source": [
    "kubectl -n $NAMESPACE -f scripts/intput_ingress.yaml"
   ]
  },
  {
   "cell_type": "markdown",
   "id": "695fee7b-34fe-43ff-855b-345459801bd5",
   "metadata": {},
   "source": [
    "<i class=\"fas fa-2x fa-walking\" style=\"color:#FFAD33;\"></i>&nbsp;&nbsp;STEP 5 set your laptop"
   ]
  },
  {
   "cell_type": "markdown",
   "id": "70c33f9f-c121-49b8-9dee-206954fe1589",
   "metadata": {},
   "source": [
    "Set a hosted name sonarqubeX.se.sonarlab.com on your laptop : replace X by your stundent number \n",
    "\n",
    "Edit the file using sudo /etc/hosts and add this input :\n",
    "\n",
    "> 20.31.229.54  sonarqubeX.se.sonarlab.com sonarqube\n",
    "\n",
    "The IP address 20.31.229.54 and the public IP of the ingress controller  service(in this example)\n"
   ]
  },
  {
   "cell_type": "markdown",
   "id": "2e8ee59e-d441-4dc1-a2ec-7cd0061f42cd",
   "metadata": {},
   "source": [
    "<i class=\"fas fa-2x fa-walking\" style=\"color:#FFAD33;\"></i>&nbsp;&nbsp;STEP 6: connect to SonarQube with your DNS name : https://sonarqube10.se.sonarlab.com"
   ]
  },
  {
   "cell_type": "markdown",
   "id": "1b48b894-3bef-4308-bc96-d0cd33bb8a4b",
   "metadata": {},
   "source": [
    "<img src=\"imgs/sonaringr.png\" alt=\"drawing\" >"
   ]
  },
  {
   "cell_type": "markdown",
   "id": "8f1bd526-5166-4070-98cc-0e54822aa79c",
   "metadata": {},
   "source": [
    "<br>\n"
   ]
  },
  {
   "cell_type": "markdown",
   "id": "0838f163-7f89-446d-ac5b-35b0573243fe",
   "metadata": {},
   "source": [
    "</br></br>\n",
    "<div class=\"alert\" style=\"background-color:#FFAD33;color:#fff;width:100%\" role=\"alert\">\n",
    "  <p style=\"font-size:20px;display: block;text-align:center;margin-left: auto;margin-right: auto;\"><i class=\"fas fa-4x fa-smile\"></i>&nbsp;&nbsp;Congratulations on completing the module&nbsp;&nbsp;<i class=\"fas fa-4x fa-praying-hands\"></i></p>\n",
    "</div>"
   ]
  },
  {
   "cell_type": "markdown",
   "id": "45f97c96-ff67-45e5-9a4a-3f87a1b1737d",
   "metadata": {},
   "source": [
    "<br>\n",
    "\n",
    "## <i class=\"fas fa-2x fa-map-marker-alt\" style=\"color:#FFAD33;\"></i>&nbsp;&nbsp;Next Steps\n",
    "\n",
    "Conclusion"
   ]
  },
  {
   "cell_type": "markdown",
   "id": "cbb3dab8-cabb-4f0c-befc-42430fb7063d",
   "metadata": {},
   "source": [
    "<a href=\"helmlab-end.ipynb#comp\" target=\"New\" title=\"Next: Conclusion\"><button type=\"submit\"  class=\"btn btn-lg btn-block\" style=\"background-color:#FFAD33;color:#fff;position:relative;width:10%; height: 30px;float: right;\"><b>Next</b></button></a>\n",
    " <a href=\"helmlab1.ipynb#begin\" target=\"New\" title=\"Back: Deploy SopnarQube DCE\"><button type=\"submit\"  class=\"btn btn-lg btn-block\" style=\"background-color:#FFAD33;color:#fff;position:relative;width:10%; height: 30px;float: left;\"><b>Back</b></button></a>"
   ]
  }
 ],
 "metadata": {
  "kernelspec": {
   "display_name": "Bash",
   "language": "bash",
   "name": "bash"
  },
  "language_info": {
   "codemirror_mode": "shell",
   "file_extension": ".sh",
   "mimetype": "text/x-sh",
   "name": "bash"
  }
 },
 "nbformat": 4,
 "nbformat_minor": 5
}
