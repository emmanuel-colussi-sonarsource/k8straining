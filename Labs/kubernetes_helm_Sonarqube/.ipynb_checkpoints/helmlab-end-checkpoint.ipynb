{
 "cells": [
  {
   "cell_type": "markdown",
   "metadata": {},
   "source": [
    "<link rel=\"stylesheet\" type=\"text/css\" href=\"css/bootstrap.min.css\">\n",
    "<link rel=\"stylesheet\" type=\"text/css\" href=\"css/fontawesome.min.css\">\n",
    "<style type=\"text/css\" media=\"screen\">\n",
    "a:link { color:#FFFFFF; text-decoration: none; }\n",
    "a:visited { color:#FFFFFF; text-decoration: none; }\n",
    "a:hover { color:#FFFFFF; text-decoration: none; }\n",
    "a:active { color:#FFFFFF; text-decoration: underline; }\n",
    "</style>\n",
    "\n",
    "<img src=\"imgs/helm.svg\" alt=\"drawing\">\n",
    "<br>\n",
    "<br>\n",
    "<br>\n",
    "\n",
    "Emmanuel COLUSSI – Sales Engineer\n",
    "<br>\n",
    "<br>\n",
    "<br>\n",
    "<br>\n",
    "\n",
    "\n",
    "## <i class=\"fas fa-2x fa-ban\" style=\"color:#FFAD33;\"></i>&nbsp;&nbsp;<span>Before finishing</span>&nbsp;&nbsp; <i class=\"fas fa-2x fa-smile\" style=\"color:#FFAD33;\"></i>\n",
    "Before leaving this demo, please start the reset of the platform:\n",
    "<div class=\"alert\" style=\"background-color:#FFAD33;color:#fff;\" role=\"alert\">\n",
    "  <p class=\"mb-0\"><i class=\"fas fa-sync-alt\"></i>&nbsp;&nbsp;Run the following command in the next Cell with button <i class=\"fas fa-play\"></i> : </div>\n",
    "\n"
   ]
  },
  {
   "cell_type": "code",
   "execution_count": null,
   "metadata": {},
   "outputs": [],
   "source": [
    "./resetlab.sh"
   ]
  },
  {
   "cell_type": "markdown",
   "metadata": {},
   "source": [
    "<br>\n",
    "<br>\n",
    "<br>\n",
    "\n",
    "## <i class=\"fas fa-2x fa-list-alt\" style=\"color:#FFAD33;\"></i>&nbsp;&nbsp;Conclusion\n",
    "\n",
    "<p>As you can see, it is quite easy to use Kubernetes and deploy an application like Sonarqube.\n",
    "Kubernetes brings resiliency to Sonarqube<p>\n",
    "\n",
    "\n",
    "## <i class=\"fas fa-2x fa-link\" style=\"color:#FFAD33;\"></i>&nbsp;&nbsp;Resources\n",
    "\n",
    "\n",
    "\n",
    "HELM documentation : https://helm.sh/\n",
    "    \n",
    "HELM SonarQube: https://github.com/SonarSource/helm-chart-sonarqube\n",
    "\n",
    "\n",
    "\n",
    "<br>\n",
    "<table class=\"table\" style=\"font-size: 14px;\">\n",
    "  <tbody>\n",
    "    <tr>\n",
    "        <td style=\"width:50%;\"><h1 style=\"font-size:100px;\" >Thank You</h1></td>\n",
    "        <td><img src=\"imgs/grommet.png\" alt=\"csi logo\" style=\"float: right;width:50%\"></td>\n",
    " </tr>  \n",
    " </tbody>\n",
    "</table>"
   ]
  },
  {
   "cell_type": "markdown",
   "metadata": {},
   "source": [
    "<a href=\"helmintro.ipynb#intro\" target=\"New\" title=\"Back: About This demontration\"><i class=\"fas fa-2x fa-home\" style=\"color:#FFAD33;\"></i></a>"
   ]
  }
 ],
 "metadata": {
  "kernelspec": {
   "display_name": "Bash",
   "language": "bash",
   "name": "bash"
  },
  "language_info": {
   "codemirror_mode": "shell",
   "file_extension": ".sh",
   "mimetype": "text/x-sh",
   "name": "bash"
  }
 },
 "nbformat": 4,
 "nbformat_minor": 4
}
