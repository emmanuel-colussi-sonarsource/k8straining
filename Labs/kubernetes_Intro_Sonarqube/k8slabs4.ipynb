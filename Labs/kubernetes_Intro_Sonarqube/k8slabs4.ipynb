{
 "cells": [
  {
   "cell_type": "markdown",
   "metadata": {},
   "source": [
    "<link rel=\"stylesheet\" type=\"text/css\" href=\"css/bootstrap.min.css\">\n",
    "<link rel=\"stylesheet\" type=\"text/css\" href=\"css/fontawesome.min.css\">\n",
    "<style type=\"text/css\" media=\"screen\">\n",
    "a:link { color:#FFFFFF; text-decoration: none; }\n",
    "a:visited { color:#FFFFFF; text-decoration: none; }\n",
    "a:hover { color:#FFFFFF; text-decoration: none; }\n",
    "a:active { color:#FFFFFF; text-decoration: underline; }\n",
    "</style>\n",
    "\n",
    "<img src=\"imgs/Kubernetes_banner.jpg\" alt=\"drawing\" width=\"800px\" height=\"280px\"/>\n",
    "<br>\n",
    "<a id=\\\"comp\\\" style=\\\"text-decoration:none;\\\"><h1>Kubectl main command</h1></a>\n",
    "\n",
    "#### Command line tool (kubectl)\n",
    "<br>\n",
    "<br>\n",
    "\n",
    "Emmanuel COLUSSI – Sales Engineer\n",
    "\n"
   ]
  },
  {
   "cell_type": "markdown",
   "metadata": {},
   "source": [
    "<br>\n",
    "<br>\n",
    "<br>\n",
    "\n",
    "## <i class=\"far fa-2x fa-comment-dots\" style=\"color:#FFAD33;\"></i>&nbsp;&nbsp;Introduction"
   ]
  },
  {
   "cell_type": "markdown",
   "metadata": {},
   "source": [
    "<p>Kubernetes provides a command line tool for communicating with a Kubernetes cluster's control plane, using the Kubernetes API.</p>\n",
    "\n",
    "This tool is named <b>kubectl</b>.\n",
    "\n",
    "<p>For configuration, kubectl looks for a file named config in the $HOME/.kube directory. You can specify other kubeconfig files by setting the KUBECONFIG environment variable or by setting the --kubeconfig flag.</p>\n",
    "\n",
    "<p>This overview covers kubectl syntax, describes the command operations, and provides common examples. For details about each command, including all the supported flags and subcommands, see the <a href=\"https://kubernetes.io/docs/reference/generated/kubectl/kubectl-commands\" target=\"ext\">kubectl reference documentation.</a></p>"
   ]
  },
  {
   "cell_type": "markdown",
   "metadata": {},
   "source": [
    "## <i class=\"fas fa-2x fa-hand-point-right\" style=\"color:#FFAD33;\"></i>&nbsp;&nbsp;Syntax"
   ]
  },
  {
   "cell_type": "raw",
   "metadata": {},
   "source": [
    "kubectl [command] [TYPE] [NAME] [flags]"
   ]
  },
  {
   "cell_type": "markdown",
   "metadata": {},
   "source": [
    "where command, TYPE, NAME, and flags are:\n",
    "\n",
    "    command: Specifies the operation that you want to perform on one or more resources, for example create, get, describe, delete.\n",
    "\n",
    "    TYPE: Specifies the resource type. Resource types are case-insensitive and you can specify the singular, plural, or abbreviated forms.\n",
    "    Main Resource :\n",
    "    \n",
    "    pods : po\n",
    "    configmaps : cm\n",
    "    services : svc\n",
    "    storageclass : sc\n",
    "    namespaces : ns\n",
    "    persistentvolumeclaims : pvc\n",
    "    persistentvolume : pv\n",
    "    deployments : deploy\n",
    "    replicasets : rs\n",
    "    statefulsets : sts\n",
    "    \n",
    "For more resource type show this <a href=\"https://kubernetes.io/docs/reference/kubectl/#resource-types\" target=\"ext\">link</a>\n",
    "\n",
    "    NAME: Specifies the name of the resource. \n",
    "    flags: Specifies optional flags. For example, you can use the -s or --server flags to specify the address and port of the Kubernetes API server."
   ]
  },
  {
   "cell_type": "markdown",
   "metadata": {},
   "source": [
    "## <i class=\"fas fa-2x fa-hand-point-right\" style=\"color:#FFAD33;\"></i><b>&nbsp;&nbsp;Examples: Common operations"
   ]
  },
  {
   "cell_type": "markdown",
   "metadata": {
    "tags": []
   },
   "source": [
    "#### <b>kubectl apply - Apply or Update a resource from a file</b>"
   ]
  },
  {
   "cell_type": "markdown",
   "metadata": {
    "tags": []
   },
   "source": [
    "<span style=\"color:#080;font-style:italic\"># Create a service using the definition in example-service.yaml.</span>\n",
    "<p>kubectl apply -f example-service.yaml</p>\n",
    "\n",
    "<span style=\"color:#080;font-style:italic\"># Create a replication controller using the definition in example-controller.yaml.</span>\n",
    "<p>kubectl apply -f example-controller.yaml</p>\n",
    "\n",
    "<span style=\"color:#080;font-style:italic\"># Create the objects that are defined in any .yaml, .yml, or .json file within the <directory> directory.</span>\n",
    "   <p> kubectl apply -f your_directory</p>\n",
    "    <hr>"
   ]
  },
  {
   "cell_type": "markdown",
   "metadata": {},
   "source": [
    "#### <b>kubectl get - List one or more resources.</b>"
   ]
  },
  {
   "cell_type": "markdown",
   "metadata": {},
   "source": [
    "<span style=\"color:#080;font-style:italic\"># List all pods in plain-text output format in namespace (sonarqube)</span>\n",
    "<p>kubectl get pods -n sonarqube</p>\n",
    "\n",
    "<span style=\"color:#080;font-style:italic\"># List all pods in plain-text output format and include additional information (such as node name) in namespace (sonarqube)</span>\n",
    "<p>kubectl get pods -o wide -n sonarqube</p>\n",
    "\n",
    "<span style=\"color:#080;font-style:italic\"># List all services in namespace (sonarqube)</span>\n",
    "<p>kubectl get svc  -n sonarqube</p>\n",
    "<hr>\n"
   ]
  },
  {
   "cell_type": "markdown",
   "metadata": {
    "tags": []
   },
   "source": [
    "#### <b>kubectl describe - Display detailed state of one or more resources...</b>"
   ]
  },
  {
   "cell_type": "markdown",
   "metadata": {},
   "source": [
    "<span style=\"color:#080;font-style:italic\"># Display the details of the node with name node-name.</span>\n",
    "<p>kubectl describe nodes node-name</p>\n",
    "\n",
    "<span style=\"color:#080;font-style:italic\"># Display the details of the pod with name pod-name.</span>\n",
    "<p>kubectl describe pods/pod-name</p>\n",
    "<hr>"
   ]
  },
  {
   "cell_type": "markdown",
   "metadata": {},
   "source": [
    "#### <b>kubectl delete - Delete resources ...</b>"
   ]
  },
  {
   "cell_type": "markdown",
   "metadata": {},
   "source": [
    "<span style=\"color:#080;font-style:italic\"># Delete a pod using the type and name specified in the pod.yaml file in namespace sonarqube</span>\n",
    "<p>kubectl delete -f pod.yaml -n sonarqube</p>\n",
    "\n",
    "<span style=\"color:#080;font-style:italic\"># Delete all the pods and services in namespace sonarqube</span>\n",
    "<p>kubectl delete pods,services -n sonarqube</p>\n",
    "\n",
    " <hr>"
   ]
  },
  {
   "cell_type": "markdown",
   "metadata": {},
   "source": [
    "#### <b>kubectl exec - Execute a command against a container in a pod</b>"
   ]
  },
  {
   "cell_type": "markdown",
   "metadata": {},
   "source": [
    "<span style=\"color:#080;font-style:italic\"># Get output from running 'ls' from pod sonarqube in directory /opt/sonarqube/logs</span>\n",
    "<p>kubectl -n sonarqube exec pod-name -- ls /opr/sonarqube/logs</p>\n",
    "\n",
    "<span style=\"color:#080;font-style:italic\"># Get an interactive TTY and run /bin/bash from pod pod-name.</span>\n",
    "<p>kubectl -n sonarqube exec -ti pod-name -- /bin/bash</p>\n",
    "<hr>\n"
   ]
  },
  {
   "cell_type": "markdown",
   "metadata": {},
   "source": [
    "#### <b>kubectl cp </b>"
   ]
  },
  {
   "cell_type": "markdown",
   "metadata": {},
   "source": [
    "<span style=\"color:#080;font-style:italic\"># to copy a file from local to pod</span>\n",
    "<p>kubectl -n sonarqube cp file-name pod-name:<fully-qualified-file-name> -c <container-name>exec pod-name -- ls /opr/sonarqube/logs</p>\n",
    "\n",
    "<span style=\"color:#080;font-style:italic\"># Get an interactive TTY and run /bin/bash from pod pod-name.</span>\n",
    "<p>kubectl -n sonarqube exec -ti pod-name -- /bin/bash</p>\n",
    "<hr>\n",
    "\n"
   ]
  },
  {
   "cell_type": "markdown",
   "metadata": {},
   "source": [
    "<i class=\"fas fa-hand-point-right\" style=\"color:#FFAD33;\"></i><b>&nbsp;&nbsp;<b>CreateContainerConfigError</b>"
   ]
  },
  {
   "cell_type": "markdown",
   "metadata": {},
   "source": [
    "<p>This error is usually the result of a missing Secret or ConfigMap. Secrets are Kubernetes objects used to store sensitive information like database credentials. ConfigMaps store data as key-value pairs, and are typically used to hold configuration information used by multiple pods.</p>\n",
    "<p>How to identify the issue ?</p>\n",
    "\n",
    "Run <b>kubectl -n [namespace] get pods</b> .\n",
    "\n",
    "Check the output to see if the pod’s status is <b>CreateContainerConfigError</b>"
   ]
  },
  {
   "cell_type": "raw",
   "metadata": {},
   "source": [
    "$ kubectl -n sonarqube get pods \n",
    "NAME            READY   STATUS                       RESTARTS   AGE\n",
    "sonarqube-app   0/1     CreateContainerConfigError   0          1m23s"
   ]
  },
  {
   "cell_type": "markdown",
   "metadata": {},
   "source": [
    "<p>Getting detailed information and resolving the issue</p>\n",
    "\n",
    "<p>To get more information about the issue, run <b>kubectl -n [namespace] describe [pod_name]</b> and look for a message </p>"
   ]
  },
  {
   "cell_type": "raw",
   "metadata": {},
   "source": [
    "QoS Class:                   BestEffort\n",
    "Node-Selectors:              <none>\n",
    "Tolerations:                 node.kubernetes.io/not-ready:NoExecute op=Exists for 300s\n",
    "                             node.kubernetes.io/unreachable:NoExecute op=Exists for 300s\n",
    "Events:\n",
    "  Type     Reason     Age                    From               Message\n",
    "  ----     ------     ----                   ----               -------\n",
    "  Normal   Scheduled  4m30s                  default-scheduler  Successfully assigned student1/postgres-699f8bc67c-qjlcg to aks-se2akspool-26577560-vmss000004\n",
    "  Normal   Pulling    4m30s                  kubelet            Pulling image \"postgres:13.9\"\n",
    "  Normal   Pulled     4m23s                  kubelet            Successfully pulled image \"postgres:13.9\" in 7.235878444s\n",
    "  Normal   Created    2m50s (x5 over 4m23s)  kubelet            Created container postgres\n",
    "  Normal   Started    2m50s (x5 over 4m22s)  kubelet            Started container postgres\n",
    "  Normal   Pulled     2m50s (x4 over 4m16s)  kubelet            Container image \"postgres:13.9\" already present on machine\n",
    "  Warning  BackOff    2m22s (x9 over 4m14s)  kubelet            Back-off restarting failed container"
   ]
  },
  {
   "cell_type": "markdown",
   "metadata": {},
   "source": [
    "<i class=\"fas fa-hand-point-right\" style=\"color:#FFAD33;\"></i><b>&nbsp;&nbsp;<b>ImagePullBackOff or ErrImagePull</b>"
   ]
  },
  {
   "cell_type": "markdown",
   "metadata": {},
   "source": [
    "<p>This status means that a pod could not run because it attempted to pull a container image from a registry, and failed. The pod refuses to start because it cannot create one or more containers defined in its manifest.</p>\n",
    "<p>How to identify the issue?</p>\n",
    "\n",
    "<p>Run the command <b>kubectl -n [namespace] get pods</b>\n",
    "\n",
    "<p>Check the output to see if the pod status is <b>ImagePullBackOff or ErrImagePull:</b>"
   ]
  },
  {
   "cell_type": "raw",
   "metadata": {},
   "source": [
    "$ kubectl -n sonarqube get pods\n",
    "NAME            READY    STATUS             RESTARTS   AGE\n",
    "sonarqube-app   0/1      ImagePullBackOff   0          58s\n"
   ]
  },
  {
   "cell_type": "markdown",
   "metadata": {},
   "source": [
    "<p>Getting detailed information and resolving the issue</p>\n",
    "\n",
    "<p>Run the kubectl describe pod [name] command for the problematic pod.</p>\n",
    "\n",
    "<p>The output of this command will indicate the root cause of the issue. This can be one of the following:</p>\n",
    "<ul>\n",
    "    <li>Wrong image name or tag—this typically happens because the image name or tag was typed incorrectly in the pod manifest. Verify the correct image name using docker pull, and correct it in the pod manifest.</li>\n",
    "    <li>Authentication issue in Container registry—the pod could not authenticate with the registry to retrieve the image. This could happen because of an issue in the Secret holding credentials, or because the pod does not have an RBAC role that allows it to perform the operation. Ensure the pod and node have the appropriate permissions and Secrets, then try the operation manually using docker pull.</li>\n",
    "</ul>\n"
   ]
  },
  {
   "cell_type": "markdown",
   "metadata": {},
   "source": [
    "<i class=\"fas fa-hand-point-right\" style=\"color:#FFAD33;\"></i><b>&nbsp;&nbsp;<b>CrashLoopBackOff</b>\n",
    "\n",
    "<p>This issue indicates a pod cannot be scheduled on a node. This could happen because the node does not have sufficient resources to run the pod, or because the pod did not succeed in mounting the requested volumes.</p>\n",
    "<p>How to identify the issue?</p>\n",
    "\n",
    "<p>Run the command <b>kubectl -n [namespace] get pods</b>.</p>\n",
    "\n",
    "Check the output to see if the pod status is <b>CrashLoopBackOff</b>"
   ]
  },
  {
   "cell_type": "raw",
   "metadata": {},
   "source": [
    "$ kubectl -n sonarqube get pods\n",
    "NAME            READY    STATUS             RESTARTS   AGE\n",
    "sonarqube-app   0/1      CrashLoopBackOff   0          58s\n"
   ]
  },
  {
   "cell_type": "markdown",
   "metadata": {},
   "source": [
    "<p>Getting detailed information and resolving the issue</p>\n",
    "\n",
    "<p>Run the kubectl describe pod [name] command for the problematic pod:</p>\n",
    "\n",
    "<p>The output will help you identify the cause of the issue. Here are the common causes:</p>\n",
    "<ul>\n",
    "    <li>Insufficient resources—if there are insufficient resources on the node, you can manually evict pods from the node or scale up your cluster to ensure more nodes are available for your pods.</li>\n",
    "   <li> Volume mounting—if you see the issue is mounting a storage volume, check which volume the pod is trying to mount, ensure it is defined correctly in the pod manifest, and see that a storage volume with those definitions is available.<l/i>\n",
    "    <li>Use of hostPort—if you are binding pods to a hostPort, you may only be able to schedule one pod per node. In most cases you can avoid using hostPort and use a Service object to enable communication with your pod.</li>\n"
   ]
  },
  {
   "cell_type": "markdown",
   "metadata": {},
   "source": [
    "</br></br>\n",
    "<div class=\"alert\" style=\"background-color:#FFAD33;color:#fff;width:100%\" role=\"alert\">\n",
    "  <p style=\"font-size:20px;display: block;text-align:center;margin-left: auto;margin-right: auto;\"><i class=\"fas fa-4x fa-smile\"></i>&nbsp;&nbsp;Congratulations on completing the module&nbsp;&nbsp;<i class=\"fas fa-4x fa-praying-hands\"></i></p>\n",
    "</div>  "
   ]
  },
  {
   "cell_type": "markdown",
   "metadata": {
    "tags": []
   },
   "source": [
    "<br><br>\n",
    "\n",
    "## <i class=\"fas fa-2x fa-map-marker-alt\" style=\"color:#FFAD33;\"></i>&nbsp;&nbsp;Next Steps\n",
    "\n",
    "Conclusion"
   ]
  },
  {
   "cell_type": "markdown",
   "metadata": {},
   "source": [
    " <a href=\"k8slabs-end.ipynb#begin\" target=\"New\" title=\"Next: Conclusion\"><button type=\"submit\"  class=\"btn btn-lg btn-block\" style=\"background-color:#FFAD33;color:#fff;position:relative;width:10%; height: 30px;float: right;\"><b>Next</b></button></a>\n",
    " <a href=\"k8slabs2.ipynb#deploybdc\" target=\"New\" title=\"Back: Deploy SonarQube EE Application\"><button type=\"submit\"  class=\"btn btn-lg btn-block\" style=\"background-color:#FFAD33;color:#fff;position:relative;width:10%; height: 30px;float: left;\"><b>Back</b></button></a>"
   ]
  }
 ],
 "metadata": {
  "kernelspec": {
   "display_name": "Bash",
   "language": "bash",
   "name": "bash"
  },
  "language_info": {
   "codemirror_mode": "shell",
   "file_extension": ".sh",
   "mimetype": "text/x-sh",
   "name": "bash"
  }
 },
 "nbformat": 4,
 "nbformat_minor": 4
}
