{
 "cells": [
  {
   "cell_type": "markdown",
   "metadata": {},
   "source": [
    "<link rel=\"stylesheet\" type=\"text/css\" href=\"css/bootstrap.min.css\">\n",
    "<link rel=\"stylesheet\" type=\"text/css\" href=\"css/fontawesome.min.css\">\n",
    "<style type=\"text/css\" media=\"screen\">\n",
    "a:link { color:#FFFFFF; text-decoration: none; }\n",
    "a:visited { color:#FFFFFF; text-decoration: none; }\n",
    "a:hover { color:#FFFFFF; text-decoration: none; }\n",
    "a:active { color:#FFFFFF; text-decoration: underline; }\n",
    "</style>\n",
    "\n",
    "<img src=\"imgs/Kubernetes_banner.jpg\" alt=\"drawing\" width=\"800px\" height=\"280px\"/>\n",
    "<br>\n",
    "<a id=\\\"main\\\" style=\\\"text-decoration:none;\\\"><h1>Using SonarQube on kubernetes cluster</h1></a>\n",
    "\n",
    "#### What is Kubernetes\n",
    "<br>\n",
    "<br>\n",
    "\n",
    "Emmanuel COLUSSI – Sales Engineer\n",
    "\n"
   ]
  },
  {
   "cell_type": "markdown",
   "metadata": {},
   "source": [
    "<br>\n",
    "<br>\n",
    "<br>\n",
    "<br>\n",
    "\n",
    "\n",
    "## <i class=\"far fa-2x fa-comment-dots\" style=\"color:#FFAD33;\"></i>&nbsp;&nbsp;What is Kubernetes"
   ]
  },
  {
   "cell_type": "markdown",
   "metadata": {},
   "source": [
    "<p> Kubernetes (also known as KS8) is an open source software container orchestrator. As its name implies, it is designed to orchestrate software container cluster(s) architectures in an extremely agile manner, giving the ability to manage the allocation of underlying machine resources on the fly.Kubernetes supports clusters of up to 50,000 servers.</p>\n",
    "<img src=\"imgs/kubernetes2.png\" alt=\"drawing\" width=\"400px\" height=\"296px\" ></p>\n",
    "\n",
    "\n",
    "<p><b>What is the connection between Docker and Kubernetes ?</b><img src=\"imgs/k8sdocker.png\" alt=\"drawing\" width=\"195px\" height=\"351px\"/ style=\"float:right;\"></p>\n",
    "\n",
    "Software containers managed by Kubernetes are based on Docker technology, which is also portable from one cloud to another. Kubernetes provides the orchestration layer to manage application architectures federating several containers or clusters of Docker containers.The idea is to replicate the components of the application to better manage the machine resources needed for each to handle the traffic.\n",
    "\n"
   ]
  },
  {
   "cell_type": "markdown",
   "metadata": {},
   "source": [
    "## <i class=\"fas fa-2x fa-bullhorn\" style=\"color:#FFAD33;\"></i>&nbsp;&nbsp;Key terms to understand Kubernetes"
   ]
  },
  {
   "cell_type": "markdown",
   "metadata": {},
   "source": [
    "<p>To get started, here are some Kubernetes-related terms. A more comprehensive list is available on the Kubernetes Standard Glossary page. You can also check out <a href=\"https://kubernetes.io/docs/reference/kubectl/cheatsheet/\" target=\"kubernetes doc\">the Kubernetes cheat sheet</a>, which includes a list of commonly used Kubectl commands and indicators.</p>\n",
    "<p>\n",
    "<i class=\"fas fa-hand-point-right\" style=\"color:#FFAD33;\"></i><b>&nbsp;&nbsp;Cluster</b>\n",
    "<p>A set of machines, individually called \"nodes,\" used to run containerized applications managed by Kubernetes.</p>\n",
    "\n",
    "<i class=\"fas fa-hand-point-right\" style=\"color:#FFAD33;\"></i><b>&nbsp;&nbsp;Node</b>\n",
    "\n",
    "<p>A virtual or physical machine. A cluster consists of a master node and multiple worker nodes.</p>\n",
    "\n",
    "<i class=\"fas fa-hand-point-right\" style=\"color:#FFAD33;\"></i><b>&nbsp;&nbsp;Cloud container</b>\n",
    "\n",
    "<p>An image that contains software and its dependencies.</p>\n",
    "\n",
    "<i class=\"fas fa-hand-point-right\" style=\"color:#FFAD33;\"></i><b>&nbsp;&nbsp;Pod</b>\n",
    "\n",
    "<p>A single container or set of containers running on a Kubernetes cluster.</p>\n",
    "\n",
    "<i class=\"fas fa-hand-point-right\" style=\"color:#FFAD33;\"></i><b>&nbsp;&nbsp;Deployment</b>\n",
    "\n",
    "<p>An object that manages replicated applications represented by pods. Pods are deployed on nodes in a cluster.</p>\n",
    "\n",
    "<i class=\"fas fa-hand-point-right\" style=\"color:#FFAD33;\"></i><b>&nbsp;&nbsp;Replica set</b>\n",
    "<p>Verifies that the desired number of pod replicas are running concurrently.</p>\n",
    "\n",
    "<i class=\"fas fa-hand-point-right\" style=\"color:#FFAD33;\"></i><b>&nbsp;&nbsp;Service</b>\n",
    "<p>Specifies how to access applications represented by a set of pods. Services typically describe ports and load balancers. They can be used to control internal and external access to a cluster.</p>\n",
    "\n",
    "</p>"
   ]
  },
  {
   "cell_type": "markdown",
   "metadata": {
    "tags": []
   },
   "source": [
    "## <i class=\"fas fa-2x fa-cogs\" style=\"color:#FFAD33;\"></i>&nbsp;&nbsp;Kubernetes Architecture"
   ]
  },
  {
   "cell_type": "markdown",
   "metadata": {
    "tags": []
   },
   "source": [
    "<p>Kubernetes advocates the vision of a consolidated information system on a single meta-cluster driven by a single container orchestrator. An infrastructure that can be, at the same time, divided into geographical sub-clusters distributed on several clouds, private and / or public. All this in a logic of shared computing resources.</p>\n",
    "<p>The key components of Kubernetes are clusters, nodes and the control plane. Clusters contain nodes. Each node includes a set of at least one worker machine. Nodes host pods containing elements of the deployed application. The control plane manages the nodes and pods in the cluster, often across many computers, for high availability.</p>\n",
    "\n",
    "<p><img src=\"imgs/k8sarch.png\" alt=\"arch\"  ></p>\n",
    "\n",
    "<p>The control plan contains the following elements:</p>\n",
    "    <ul>\n",
    "     <li> <i class=\"far fa-window-maximize\" style=\"color:#FFAD33;\"></i>&nbsp;&nbsp;Kubernetes API server: provides the API for controlling Kubernetes</li>\n",
    "    <li>  <i class=\"fas fa-database\" style=\"color:#FFAD33;\"></i>&nbsp;&nbsp; etcd: key value store for cluster data</li>\n",
    "    <li>  <i class=\"far fa-clock\" style=\"color:#FFAD33;\"></i>&nbsp;&nbsp;Kubernetes Scheduler - maps new pods to available nodes</li>\n",
    "    <li>  <i class=\"fas fa-undo\" style=\"color:#FFAD33;\"></i>&nbsp;&nbsp;KKubernetes Controller Manager - runs various processes to manage node failure, control replication, join services and pods via endpoints, and control accounts and access tokens</li>\n",
    "    <li>  <i class=\"fab fa-soundcloud\" style=\"color:#FFAD33;\"></i>&nbsp;&nbsp; Cloud Manager-Controller - Helps manage specific cloud provider APIs around aspects such as specific infrastructure routes and load balancing</li>\n",
    "</ul>\n",
    "<p>The node components are as follows:</p>\n",
    "<ul>\n",
    "    <li><i class=\"fas fa-pager\" style=\"color:#FFAD33;\"></i>&nbsp;&nbsp;kubelet: an agent that verifies that containers are running in a pod</li>\n",
    "    <li><i class=\"fas fa-network-wired\" style=\"color:#FFAD33;\"></i>&nbsp;&nbsp;Kubernetes network proxy: manages network policies</li>\n",
    "    <li><i class=\"fab fa-docker\" style=\"color:#FFAD33;\"></i>&nbsp;&nbsp;Docker, containerd or other type of container execution</li>\n",
    "</ul>    \n",
    "        "
   ]
  },
  {
   "cell_type": "markdown",
   "metadata": {},
   "source": [
    "<br>\n",
    "\n",
    "## <i class=\"fas fa-2x fa-city\" style=\"color:#FFAD33;\"></i>&nbsp;&nbsp;Kubernetes main cloud-based offerings"
   ]
  },
  {
   "cell_type": "markdown",
   "metadata": {},
   "source": [
    "<i class=\"fas fa-hand-point-right\" style=\"color:#FFAD33;\"></i><b>&nbsp;&nbsp;<a href=\"https://azure.microsoft.com/en-gb/products/kubernetes-service/#overview\" target=\"aks\" >Azure Kubernetes Service (AKS)</a></b><p>Azure Kubernetes Service is a managed container orchestration service based on the open source Kubernetes system, which is available on the Microsoft Azure public cloud.The cluster control plane node is deployed and managed by Microsoft while the node and node pools where the applications are deployed, are handled by the customer.  </p>\n",
    "<i class=\"fas fa-hand-point-right\" style=\"color:#FFAD33;\"></i><b>&nbsp;&nbsp; <a href=\"https://docs.aws.amazon.com/en_en/eks/latest/userguide/what-is-eks.html\" target=\"aws\">Amazon Elastic Container Service for Kubernetes (EKS)</a> </b>\n",
    "<p>Amazon Elastic Kubernetes Service (Amazon EKS) is a managed service that you can use to run Kubernetes on AWS without needing to install, operate, and maintain your own Kubernetes control plane or node.\n",
    "The main difference with Azure Kubernetes Service (AKS) is that the control plane node is not shared between clusters or AWS accounts.</p>\n",
    "<i class=\"fas fa-hand-point-right\" style=\"color:#FFAD33;\"></i><b>&nbsp;&nbsp;<a href=\"https://cloud.google.com/kubernetes-engine\" target=\"GKE\" >Google Kubernetes Engine (GKE) </a></b>\n",
    "<p>Google Kubernetes Engine (GKE) is a managed environment through which you can deploy, manage and scale your containerized applications using Google infrastructure. It consists of multiple machines (specifically, Compute Engine instances) grouped together to form a cluster.</p>\n",
    "<p>Two operating modes are available : </p>\n",
    "<ul>\n",
    "    <li><b>Autopilot : </b> manages the entire cluster and node infrastructure for you</li>\n",
    "    <li><b>Standard : </b>provides flexibility in node configuration and full control over the management of your clusters and node infrastructure</li>\n",
    "  </ul>  "
   ]
  },
  {
   "cell_type": "markdown",
   "metadata": {},
   "source": [
    "</br></br>\n",
    "<div class=\"alert\" style=\"background-color:#FFAD33;color:#fff;width:100%\" role=\"alert\">\n",
    "  <p style=\"font-size:20px;display: block;text-align:center;margin-left: auto;margin-right: auto;\"><i class=\"fas fa-4x fa-smile\"></i>&nbsp;&nbsp;Congratulations on completing the module&nbsp;&nbsp;<i class=\"fas fa-4x fa-praying-hands\"></i></p>\n",
    "</div>  "
   ]
  },
  {
   "cell_type": "markdown",
   "metadata": {},
   "source": [
    "<br><br>\n",
    "\n",
    "## <i class=\"fas fa-2x fa-map-marker-alt\" style=\"color:#FFAD33;\"></i>&nbsp;&nbsp;Next Steps\n",
    "\n",
    "Main Kubernete components : Namespaces,PODs,Volumes,Services,Deployment"
   ]
  },
  {
   "cell_type": "markdown",
   "metadata": {},
   "source": [
    " <a href=\"k8scomponents.ipynb#comp\" target=\"New\" title=\"Next: Main Kubernete components\"><button type=\"submit\"  class=\"btn btn-lg btn-block\" style=\"background-color:#FFAD33;color:#fff;position:relative;width:10%; height: 30px;float: right;\"><b>Next</b></button></a>\n",
    " <a href=\"k8sintro.ipynb#begin\" target=\"New\" title=\"Back: Introduction\"><button type=\"submit\"  class=\"btn btn-lg btn-block\" style=\"background-color:#FFAD33;color:#fff;position:relative;width:10%; height: 30px;float: left;\"><b>Back</b></button></a>"
   ]
  },
  {
   "cell_type": "code",
   "execution_count": null,
   "metadata": {},
   "outputs": [],
   "source": []
  }
 ],
 "metadata": {
  "kernelspec": {
   "display_name": "Bash",
   "language": "bash",
   "name": "bash"
  },
  "language_info": {
   "codemirror_mode": "shell",
   "file_extension": ".sh",
   "mimetype": "text/x-sh",
   "name": "bash"
  }
 },
 "nbformat": 4,
 "nbformat_minor": 4
}
