{
 "cells": [
  {
   "cell_type": "markdown",
   "metadata": {},
   "source": [
    "<link rel=\"stylesheet\" type=\"text/css\" href=\"css/bootstrap.min.css\">\n",
    "<link rel=\"stylesheet\" type=\"text/css\" href=\"css/fontawesome.min.css\">\n",
    "<style type=\"text/css\" media=\"screen\">\n",
    "a:link { color:#FFFFFF; text-decoration: none; }\n",
    "a:visited { color:#FFFFFF; text-decoration: none; }\n",
    "a:hover { color:#FFFFFF; text-decoration: none; }\n",
    "a:active { color:#FFFFFF; text-decoration: underline; }\n",
    "</style>\n",
    "\n",
    "<img src=\"imgs/Kubernetes_banner.jpg\" alt=\"drawing\" width=\"800px\" height=\"280px\"/>\n",
    "<br>\n",
    "<a id=\\\"comp\\\" style=\\\"text-decoration:none;\\\"><h1>Using SonarQube on kubernetes cluster</h1></a>\n",
    "\n",
    "#### Main Kubernete components\n",
    "<br>\n",
    "<br>\n",
    "\n",
    "Emmanuel COLUSSI – Sales Engineer\n",
    "\n"
   ]
  },
  {
   "cell_type": "markdown",
   "metadata": {},
   "source": [
    "<br>\n",
    "<br>\n",
    "<br>\n",
    "<br>\n",
    "\n",
    "\n",
    "## <i class=\"fas fa-hand-point-right\" style=\"color:#FFAD33;\"></i>&nbsp;&nbsp;Namespaces"
   ]
  },
  {
   "cell_type": "markdown",
   "metadata": {},
   "source": [
    "<p> Namespaces are a way to organize clusters into virtual sub-clusters.They can be helpful when different teams or projects share a Kubernetes cluster. Any number of namespaces are supported within a cluster, each logically separated from others but with the ability to communicate with each other.Namespaces are easy to create and delete.</p>\n",
    "<p>We can set resource limits (CPU,MEMORY,STORAGE...) for each namespace.</p>\n",
    "<img src=\"imgs/namespace.png\" alt=\"drawing\"   width=\"965px\" height=\"452px\" ></p>\n",
    "\n",
    "<p>You can check out the details in the following links.👇🏻 </p>\n",
    "\n",
    "[<i class=\"fas fa-2x fa-book\" style=\"color:#FFAD33;\"></i>](https://kubernetes.io/docs/concepts/overview/working-with-objects/namespaces/)\n"
   ]
  },
  {
   "cell_type": "markdown",
   "metadata": {},
   "source": [
    "## <i class=\"fas fa-hand-point-right\" style=\"color:#FFAD33;\"></i>&nbsp;&nbsp;PODs"
   ]
  },
  {
   "cell_type": "markdown",
   "metadata": {},
   "source": [
    "<p>A pod is a group of one or more containers (such as Docker containers), having shared storage/network, and a specification on how to run these containers. The elements of a pod are always co-located and co-ordinated, and run in a shared context.A pod models an application-specific \"logical host\".It may contain one or more application containers that are closely related.</p>\n",
    "<p> Those resources include: :</p>\n",
    "\n",
    "- Shared storage, as Volumes\n",
    "- Networking, as a unique cluster IP address\n",
    "- Information about how to run each container, such as the container image version or specific ports to use\n",
    "\n",
    "<img src=\"imgs/poddef.png\" alt=\"drawing\"   width=\"566px\" height=\"278px\" ></p>\n",
    "\n",
    "\n",
    "<p>You can check out the details in the following links.👇🏻 </p>\n",
    "\n",
    "[<i class=\"fas fa-2x fa-book\" style=\"color:#FFAD33;\"></i>](https://kubernetes.io/docs/concepts/workloads/pods/)"
   ]
  },
  {
   "cell_type": "markdown",
   "metadata": {
    "tags": []
   },
   "source": [
    "## <i class=\"fas fa-hand-point-right\" style=\"color:#FFAD33;\"></i>&nbsp;&nbsp;Persistent Volumes"
   ]
  },
  {
   "cell_type": "markdown",
   "metadata": {
    "tags": []
   },
   "source": [
    "<p>Persistent volumes let you store data independently of the pods in your Kubernetes cluster. They’re backed by storage classes that interface with different kinds of local disk, cloud storage, and network share. These implementation details are kept separate from how pods access and use the volume.</p>   \n",
    "A PersistentVolumeClaim (PVC) is a request for storage by a user. It is similar to a Pod. Pods consume node resources and PVCs consume PV resources. Pods can request specific levels of resources (CPU and Memory). Claims can request specific size and access modes (e.g., they can be mounted once read/write or many times read-only).</br>\n",
    "While PersistentVolumeClaims allow a user to consume abstract storage resources, it is common that users need PersistentVolumes with varying properties, such as performance, for different problems.<br>\n",
    "\n",
    "<table class=\"table\" style=\"font-size: 14px;\">\n",
    "  <tbody>\n",
    "    <tr>\n",
    "        <td style=\"width:40%;\"><img src=\"imgs/cs_storage_dynamic1.png\" alt=\"csi logo\" style=\"width:500px\"></td>\n",
    "\n",
    "\n",
    "<td>\n",
    "<div style=\"display: inline-table;vertical-align: middle;width: 20px;height: 20px;background-color: #fda006;;border-radius: 50%;\">\n",
    "  <span style=\"display: table-cell;vertical-align: middle;text-align: center;\">1</span>\n",
    "</div>\n",
    "The user creates a persistent volume claim (PVC) that specifies the storage type, storage class, size in gigabytes, number of IOPS, and billing type. The storage class determines the type of storage that is provisioned and the allowed ranges for size and IOPS. Creating a PVC in a cluster automatically triggers the storage plug-in for the requested type of storage to provision storage with the given specification.<br><br>\n",
    "<div style=\"display: inline-table;vertical-align: middle;width: 20px;height: 20px;background-color: #fda006;;border-radius: 50%;\">\n",
    "  <span style=\"display: table-cell;vertical-align: middle;text-align: center;\">2</span>\n",
    "</div>\n",
    " The storage device is automatically ordered and provisioned into your HPE Storage infrastructure account. The billing cycle for your storage device starts.<br><br>\n",
    "<div style=\"display: inline-table;vertical-align: middle;width: 20px;height: 20px;background-color: #fda006;;border-radius: 50%;\">\n",
    "  <span style=\"display: table-cell;vertical-align: middle;text-align: center;\">3</span>\n",
    "</div>\n",
    "The storage plug-in automatically creates a persistent volume (PV) in the cluster, a virtual storage device that points to the actual storage device in your HPE Storage infrastructure account.<br><br>\n",
    "<div style=\"display: inline-table;vertical-align: middle;width: 20px;height: 20px;background-color: #fda006;;border-radius: 50%;\">\n",
    "  <span style=\"display: table-cell;vertical-align: middle;text-align: center;\">4</span>\n",
    "</div>\n",
    " The PVC and PV are automatically connected to each other. The status of the PVC and the PV changes to Bound. You can now use the PVC to mount persistent storage to your app. If you delete the PVC, the PV and related storage instance are also deleted.\n",
    "    </td>   </tr>  \n",
    " </tbody>\n",
    "</table>  \n",
    "\n",
    "<p>You can check out the details in the following links.👇🏻 </p>\n",
    "\n",
    "[<i class=\"fas fa-2x fa-book\" style=\"color:#FFAD33;\"></i>](https://kubernetes.io/docs/concepts/storage/persistent-volumes/)"
   ]
  },
  {
   "cell_type": "markdown",
   "metadata": {
    "tags": []
   },
   "source": [
    "## <i class=\"fas fa-hand-point-right\" style=\"color:#FFAD33;\"></i>&nbsp;&nbsp;Service"
   ]
  },
  {
   "cell_type": "markdown",
   "metadata": {},
   "source": [
    "<p>In Kubernetes, a service is an entity that represents a set of pods running an application or functional component. The service holds access policies, and is responsible for enforcing these policies for incoming requests.</p>\n",
    "\n",
    "<p>The need for services arises from the fact that pods in Kubernetes are short lived and can be replaced at any time. Kubernetes guarantees the availability of a given pod and replica, but not the liveness of individual pods. This means that pods that need to communicate with another pod cannot rely on the IP address of the underlying single pod. Instead, they connect to the service, which relays them to a relevant, currently-running pod.</p>\n",
    "\n",
    "<p>The service is assigned a virtual IP address, known as a clusterIP, which persists until it is explicitly destroyed. The service acts as a reliable endpoint for communication between components or applications.</p>\n",
    "A Kubernetes service associates a set of pods with an abstract service name and persistent IP address. This enables pods to discover each other and route requests to each other. A service uses labels and selectors to match pods with other applications. For example, a service might connect the front end of an application to a back end, each running in a separate Deployment within the cluster.\n",
    "\n",
    "<p>The basic components of a Kubernetes service are a label selector that identifies pods to route traffic to, a clusterIP and port number, port definitions, and optional mapping of incoming ports to a targetPort. We’ll show examples of service configuration code in the following section.</p>\n",
    "\n",
    "<img src=\"imgs/services.png\" alt=\"drawing\"   width=\"566px\" height=\"278px\" ></p>\n",
    "\n",
    "\n",
    "<p>You can check out the details in the following links.👇🏻 </p>\n",
    "\n",
    "[<i class=\"fas fa-2x fa-book\" style=\"color:#FFAD33;\"></i>](https://kubernetes.io/docs/concepts/services-networking/service/)\n"
   ]
  },
  {
   "cell_type": "markdown",
   "metadata": {
    "tags": []
   },
   "source": [
    "## <i class=\"fas fa-hand-point-right\" style=\"color:#FFAD33;\"></i>&nbsp;&nbsp;Deployment"
   ]
  },
  {
   "cell_type": "markdown",
   "metadata": {},
   "source": [
    "<p>A Kubernetes Deployment is a resource object that provides declarative updates to applications. It enables administrators to describe the application’s life cycle, defining specific images, the desired number of pods, and more. The Kubernetes backend manages the Deployment process, performing an entire software update process without user intervention. </p>\n",
    "\n",
    "<img src=\"imgs/deploy.png\" alt=\"drawing\"   width=\"866px\"></p>\n",
    "\n",
    "\n",
    "<p>You can check out the details in the following links.👇🏻 </p>\n",
    "\n",
    "[<i class=\"fas fa-2x fa-book\" style=\"color:#FFAD33;\"></i>](https://kubernetes.io/docs/concepts/workloads/controllers/deployment/)\n"
   ]
  },
  {
   "cell_type": "markdown",
   "metadata": {},
   "source": [
    "</br></br>\n",
    "<div class=\"alert\" style=\"background-color:#FFAD33;color:#fff;width:100%\" role=\"alert\">\n",
    "  <p style=\"font-size:20px;display: block;text-align:center;margin-left: auto;margin-right: auto;\"><i class=\"fas fa-4x fa-smile\"></i>&nbsp;&nbsp;Congratulations on completing the module&nbsp;&nbsp;<i class=\"fas fa-4x fa-praying-hands\"></i></p>\n",
    "</div>  "
   ]
  },
  {
   "cell_type": "markdown",
   "metadata": {
    "tags": []
   },
   "source": [
    "<br><br>\n",
    "\n",
    "## <i class=\"fas fa-2x fa-map-marker-alt\" style=\"color:#FFAD33;\"></i>&nbsp;&nbsp;Next Steps\n",
    "\n",
    "Deploy an Database Application : create Namespaces,PVC,POD,Services,Deployment"
   ]
  },
  {
   "cell_type": "markdown",
   "metadata": {},
   "source": [
    " <a href=\"k8slabs.ipynb#begin\" target=\"New\" title=\"Next: Deploy an Database Application\"><button type=\"submit\"  class=\"btn btn-lg btn-block\" style=\"background-color:#FFAD33;color:#fff;position:relative;width:10%; height: 30px;float: right;\"><b>Next</b></button></a>\n",
    " <a href=\"k8smain.ipynb#deploybdc\" target=\"New\" title=\"Back: What is Kubernetes\"><button type=\"submit\"  class=\"btn btn-lg btn-block\" style=\"background-color:#FFAD33;color:#fff;position:relative;width:10%; height: 30px;float: left;\"><b>Back</b></button></a>"
   ]
  },
  {
   "cell_type": "code",
   "execution_count": null,
   "metadata": {},
   "outputs": [],
   "source": []
  }
 ],
 "metadata": {
  "kernelspec": {
   "display_name": "Bash",
   "language": "bash",
   "name": "bash"
  },
  "language_info": {
   "codemirror_mode": "shell",
   "file_extension": ".sh",
   "mimetype": "text/x-sh",
   "name": "bash"
  }
 },
 "nbformat": 4,
 "nbformat_minor": 4
}
