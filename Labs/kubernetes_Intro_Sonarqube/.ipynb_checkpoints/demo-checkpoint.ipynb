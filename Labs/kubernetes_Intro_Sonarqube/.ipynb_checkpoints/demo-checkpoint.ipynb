{
 "cells": [
  {
   "cell_type": "markdown",
   "metadata": {},
   "source": [
    "<style type=\"text/css\" media=\"screen\">\n",
    "a:link { color:#FFFFFF; text-decoration: none; }\n",
    "a:visited { color:#FFFFFF; text-decoration: none; }\n",
    "a:hover { color:#FFFFFF; text-decoration: none; }\n",
    "a:active { color:#FFFFFF; text-decoration: underline; }\n",
    "</style>\n",
    "# <a id=\"connect\" style=\"text-decoration:none;\">HPE CSI Driver Nimble for Kubernetes</a>\n",
    "![](imgs/hpedevlogo.svg)\n",
    "<img src=\"imgs/csilogo1.png\" alt=\"csi logo\" style=\"float: right;\">\n",
    "## How to deploy SQL Server Big Data Cluster with an Operator on Kubernetes Cluster\n",
    "\n",
    "Emmanuel COLUSSI – WW HPE Customer Innovation Center\n",
    "<br>\n",
    "<br>\n",
    "<br>\n",
    "<br>\n",
    "\n",
    "\n",
    "## Connect to a SQL Server Big Data Cluster\n",
    "\n",
    "You can connect to the SQL Server Big Data Cluster instance outside the Kubernetes cluster with the following tools:\n",
    "<ul class=\"list-group\">\n",
    "  <li class=\"list-group-item\"><i class=\"fas fa-tasks\" style=\"color:#FFAD33;\"></i>&nbsp;&nbsp;SSMS</li>\n",
    "  <li class=\"list-group-item\"><i class=\"fas fa-database\" style=\"color:#FFAD33;\"></i>&nbsp;&nbsp;Azure Data Studio</li>\n",
    "  <li class=\"list-group-item\"><i class=\"fas fa-terminal\" style=\"color:#FFAD33;\"></i>&nbsp;&nbsp;sqlcmd</li>\n",
    "  <li class=\"list-group-item\"> <i class=\"fas fa-tools\" style=\"color:#FFAD33;\"></i>&nbsp;&nbsp;Other tools ...</li>\n",
    "</ul>\n",
    "<i class=\"fas fa-2x fa-hand-point-right\" style=\"color:#FFAD33;\"></i>&nbsp;&nbsp;To connect you must first find the SQL Server master instance endpoint.</br>\n",
    "\n",
    "</br>\n",
    "</br>\n",
    "<i class=\"fas fa-2x fa-walking\" style=\"color:#FFAD33;\"></i>&nbsp;&nbsp;STEP 1: Retrieve endpoints\n",
    "<br><br>\n",
    "<p>After the deployment script has completed successfully, you can obtain the addresses of the external endpoints for the big data cluster using the following command. </p>\n",
    "\n",
    "\n",
    "<div class=\"alert\" style=\"background-color:#FFAD33;color:#fff;\" role=\"alert\">\n",
    "  <p class=\"mb-0\"><i class=\"fas fa-sync-alt\"></i>&nbsp;&nbsp;Run the commands in the next Cells with button <i class=\"fas fa-play\"></i> </p>\n",
    "   <hr>\n",
    "  <p class=\"mb-0\">This command to get all the service endpoints deployed</p>\n",
    "  \n",
    "</div>"
   ]
  },
  {
   "cell_type": "markdown",
   "metadata": {},
   "source": [
    "<i class=\"fa fa-sign-in\" style=\"color:#FFAD33;\" aria-hidden=\"true\"></i>&nbsp;&nbsp;Connect to the cluster"
   ]
  },
  {
   "cell_type": "code",
   "execution_count": 1,
   "metadata": {},
   "outputs": [
    {
     "name": "stdout",
     "output_type": "stream",
     "text": [
      "Logged in successfully to `https://10.4.0.118:30080` in namespace `cic-bdc`. Setting active context to `cic-bdc`.\n",
      "\u001b[0mConnection to bandol closed.\n"
     ]
    }
   ],
   "source": [
    "ssh -t  $JUPYTERHUB_USER@bandol \"azdata login -n cic-bdc\""
   ]
  },
  {
   "cell_type": "markdown",
   "metadata": {},
   "source": [
    "<i class=\"fa fa-external-link\" style=\"color:#FFAD33;\" aria-hidden=\"true\"></i>&nbsp;&nbsp;Get list Endpoint"
   ]
  },
  {
   "cell_type": "code",
   "execution_count": 2,
   "metadata": {},
   "outputs": [
    {
     "name": "stdout",
     "output_type": "stream",
     "text": [
      "Description                                             Endpoint                                               Name               Protocol\n",
      "------------------------------------------------------  -----------------------------------------------------  -----------------  ----------\n",
      "Gateway to access HDFS files, Spark                     https://10.4.0.118:30443                               gateway            https\n",
      "Spark Jobs Management and Monitoring Dashboard          https://10.4.0.118:30443/gateway/default/sparkhistory  spark-history      https\n",
      "Spark Diagnostics and Monitoring Dashboard              https://10.4.0.118:30443/gateway/default/yarn          yarn-ui            https\n",
      "Application Proxy                                       https://10.4.0.118:30778                               app-proxy          https\n",
      "Management Proxy                                        https://10.4.0.118:30777                               mgmtproxy          https\n",
      "Log Search Dashboard                                    https://10.4.0.118:30777/kibana                        logsui             https\n",
      "Metrics Dashboard                                       https://10.4.0.118:30777/grafana                       metricsui          https\n",
      "Cluster Management Service                              https://10.4.0.118:30080                               controller         https\n",
      "SQL Server Master Instance Front-End                    10.4.0.118,31433                                       sql-server-master  tds\n",
      "HDFS File System Proxy                                  https://10.4.0.118:30443/gateway/default/webhdfs/v1    webhdfs            https\n",
      "Proxy for running Spark statements, jobs, applications  https://10.4.0.118:30443/gateway/default/livy/v1       livy               https\n",
      "Connection to bandol closed.\n"
     ]
    }
   ],
   "source": [
    "ssh -t  $JUPYTERHUB_USER@bandol \"azdata bdc endpoint list -o table\""
   ]
  },
  {
   "cell_type": "markdown",
   "metadata": {},
   "source": [
    "<div class=\"alert\" style=\"background-color:#FFAD33;color:#fff;\" role=\"alert\">\n",
    "<p class=\"mb-0\">You can also get all the service endpoints deployed for the cluster by running the following kubectl command </p>\n",
    "<hr>\n",
    "\n",
    "  <p class=\"mb-0\"><i class=\"fas fa-sync-alt\"></i>&nbsp;&nbsp;Run the command in the next Cell with button <i class=\"fas fa-play\"></i> </p>\n",
    "</div>    "
   ]
  },
  {
   "cell_type": "code",
   "execution_count": 3,
   "metadata": {},
   "outputs": [
    {
     "name": "stdout",
     "output_type": "stream",
     "text": [
      "NAME                      TYPE        CLUSTER-IP       EXTERNAL-IP   PORT(S)                                                                                                                                                                                                                                                  AGE\n",
      "appproxy-svc              ClusterIP   10.108.73.194    <none>        8080/TCP                                                                                                                                                                                                                                                 8m3s\n",
      "appproxy-svc-external     NodePort    10.109.63.106    <none>        8080:30778/TCP                                                                                                                                                                                                                                           8m3s\n",
      "compute-0-svc             ClusterIP   10.106.152.200   <none>        1433/TCP,8300/TCP,8310/TCP,8311/TCP,8400/TCP,8410/TCP,8411/TCP,5502/TCP                                                                                                                                                                                  8m4s\n",
      "controldb-svc             ClusterIP   10.96.17.192     <none>        1433/TCP,8311/TCP,8411/TCP                                                                                                                                                                                                                               11m\n",
      "controller-svc            ClusterIP   10.99.208.207    <none>        443/TCP,8311/TCP,8301/TCP,8411/TCP,8401/TCP                                                                                                                                                                                                              11m\n",
      "controller-svc-external   NodePort    10.102.23.111    <none>        8443:30080/TCP                                                                                                                                                                                                                                           11m\n",
      "data-0-svc                ClusterIP   10.105.200.143   <none>        1350/TCP,1433/TCP,8300/TCP,8310/TCP,8311/TCP,8312/TCP,8313/TCP,8400/TCP,8410/TCP,8411/TCP,8412/TCP,8413/TCP,51000/TCP                                                                                                                                    8m3s\n",
      "gateway-svc               ClusterIP   10.109.51.9      <none>        8443/TCP,8300/TCP,8311/TCP,8400/TCP,8411/TCP                                                                                                                                                                                                             7m57s\n",
      "gateway-svc-external      NodePort    10.99.122.241    <none>        8443:30443/TCP                                                                                                                                                                                                                                           7m57s\n",
      "logsdb-svc                ClusterIP   10.111.98.220    <none>        9200/TCP,8300/TCP,8400/TCP                                                                                                                                                                                                                               10m\n",
      "logsui-svc                ClusterIP   10.108.132.20    <none>        5601/TCP,8300/TCP,8400/TCP                                                                                                                                                                                                                               10m\n",
      "master-p-svc              ClusterIP   10.109.84.81     <none>        1433/TCP                                                                                                                                                                                                                                                 8m1s\n",
      "master-svc                ClusterIP   10.106.140.229   <none>        1350/TCP,8088/TCP,50075/TCP,50020/TCP,50010/TCP,8031/TCP,8032/TCP,8033/TCP,8040/TCP,8042/TCP,8080/TCP,1433/TCP,1533/TCP,9995/TCP,8998/TCP,8300/TCP,8301/TCP,8302/TCP,8310/TCP,8311/TCP,8400/TCP,8401/TCP,8402/TCP,8410/TCP,8411/TCP,8312/TCP,51000/TCP   8m1s\n",
      "master-svc-external       NodePort    10.102.99.238    <none>        1433:31433/TCP                                                                                                                                                                                                                                           8m1s\n",
      "metricsdb-svc             ClusterIP   10.110.129.47    <none>        8086/TCP,8300/TCP,8400/TCP                                                                                                                                                                                                                               10m\n",
      "metricsdc-svc             ClusterIP   10.106.251.14    <none>        8300/TCP,8400/TCP                                                                                                                                                                                                                                        10m\n",
      "metricsui-svc             ClusterIP   10.109.35.237    <none>        3000/TCP,8300/TCP,8400/TCP                                                                                                                                                                                                                               10m\n",
      "mgmtproxy-svc             ClusterIP   10.99.164.131    <none>        443/TCP,8300/TCP,8311/TCP,8400/TCP,8411/TCP                                                                                                                                                                                                              10m\n",
      "mgmtproxy-svc-external    NodePort    10.109.146.186   <none>        8443:30777/TCP                                                                                                                                                                                                                                           10m\n",
      "nmnode-0-svc              ClusterIP   10.110.174.224   <none>        9000/TCP,50470/TCP,14000/TCP,8300/TCP,8311/TCP,8400/TCP,8411/TCP,2020/TCP,50200/TCP                                                                                                                                                                      8m5s\n",
      "sparkhead-svc             ClusterIP   10.103.40.229    <none>        135/TCP,8090/TCP,8031/TCP,8032/TCP,8033/TCP,8080/TCP,1433/TCP,9995/TCP,8998/TCP,8300/TCP,8301/TCP,8302/TCP,8400/TCP,8401/TCP,8402/TCP,9084/TCP,18480/TCP,19888/TCP,51000/TCP                                                                             7m36s\n",
      "storage-0-svc             ClusterIP   10.108.198.137   <none>        50470/TCP,50075/TCP,50200/TCP,50020/TCP,9000/TCP,50010/TCP,8040/TCP,8042/TCP,1433/TCP,8443/TCP,8300/TCP,8301/TCP,8310/TCP,8311/TCP,8400/TCP,8401/TCP,8410/TCP,8411/TCP                                                                                   7m36s\n",
      "Connection to bandol closed.\n"
     ]
    }
   ],
   "source": [
    "ssh -t  $JUPYTERHUB_USER@bandol \"kubectl  get svc -n cic-bdc\""
   ]
  },
  {
   "cell_type": "markdown",
   "metadata": {},
   "source": [
    "<br>\n",
    "<p>Type the endpoint name you found for SQL Server master instance in the Server name textbox (for example: IP_Address,31433).</p>"
   ]
  },
  {
   "cell_type": "markdown",
   "metadata": {},
   "source": [
    "<div class=\"alert\" style=\"background-color:#FFAD33;color:#fff;\" role=\"alert\">\n",
    "<i class=\"far fa-lightbulb\"></i>    \n",
    "<p>By default, the user name SA is disabled during big data cluster deployment. A new sysadmin user is provisioned during deployment with the name and password corresponding to the AZDATA_USERNAME and AZDATA_PASSWORD environment variables, which were set either before or during deployment.</p>\n",
    "    </div>"
   ]
  },
  {
   "cell_type": "code",
   "execution_count": 4,
   "metadata": {},
   "outputs": [],
   "source": [
    "export Endpoints_IP_Addr=10.4.0.119,31433"
   ]
  },
  {
   "cell_type": "code",
   "execution_count": 5,
   "metadata": {},
   "outputs": [
    {
     "name": "stdout",
     "output_type": "stream",
     "text": [
      "                                                                                                                                                                                                                                                                                                            \n",
      "------------------------------------------------------------------------------------------------------------------------------------------------------------------------------------------------------------------------------------------------------------------------------------------------------------\n",
      "Microsoft SQL Server 2019 (RTM-CU5) (KB4552255) - 15.0.4043.16 (X64) \n",
      "\tJun 10 2020 18:25:25 \n",
      "\tCopyright (C) 2019 Microsoft Corporation\n",
      "\tDeveloper Edition (64-bit) on Linux (Ubuntu 16.04.6 LTS) <X64>                                                                                                      \n",
      "\n",
      "(1 rows affected)\n",
      "Connection to bandol closed.\n"
     ]
    }
   ],
   "source": [
    "ssh -t  $JUPYTERHUB_USER@bandol \"sqlcmd -U bdcadmin -P HPEInvent20@ -S $Endpoints_IP_Addr -i BDC/getversion.sql\""
   ]
  },
  {
   "cell_type": "markdown",
   "metadata": {},
   "source": [
    "<br>\n",
    "<i class=\"fas fa-database\" style=\"color:#FFAD33;\"></i>&nbsp;&nbsp;Connexion with Azure Data Studio\n",
    "<ul>\n",
    "    <li>In Azure Data Studio, Add New Connection.</li>\n",
    "\n",
    "<li>In Connection type, select Microsoft SQL Server.</li>\n",
    "\n",
    "<li>Type the endpoint name you found for SQL Server master instance in the Server name textbox (for example: 10.6.29.252,31433).</li>\n",
    "\n",
    "<li>Choose your authentication type. For the SQL Server master instance running in a big data cluster, only Windows Authentication and SQL login are supported.</li>\n",
    "\n",
    "<li>If you're using SQL Login, enter your SQL login User name and Password : bdcadmin,HPEInvent20@</li>"
   ]
  },
  {
   "cell_type": "markdown",
   "metadata": {},
   "source": [
    "![](imgs/add-connect.png)"
   ]
  },
  {
   "cell_type": "markdown",
   "metadata": {},
   "source": [
    " <p class=\"mb-0\"><i class=\"fas fa-eye\" style=\"color:#FFAD33;\"></i>&nbsp;&nbsp;You can also view cluster status of the big data cluster : </p>"
   ]
  },
  {
   "cell_type": "markdown",
   "metadata": {},
   "source": [
    "![](imgs/show-connect.png)"
   ]
  },
  {
   "cell_type": "markdown",
   "metadata": {},
   "source": [
    "</br></br>\n",
    "<div class=\"alert\" style=\"background-color:#FFAD33;color:#fff;width:100%\" role=\"alert\">\n",
    "  <p style=\"font-size:20px;display: block;text-align:center;margin-left: auto;margin-right: auto;\"><i class=\"fas fa-4x fa-smile\"></i>&nbsp;&nbsp;Congratulations on completing the module&nbsp;&nbsp;<i class=\"fas fa-4x fa-praying-hands\"></i></p>\n",
    "</div>  "
   ]
  },
  {
   "cell_type": "markdown",
   "metadata": {},
   "source": [
    "<br><br>\n",
    "\n",
    "## <i class=\"fas fa-2x fa-map-marker-alt\" style=\"color:#FFAD33;\"></i>&nbsp;&nbsp;Next Steps\n",
    "\n",
    "Create a Workload : Import the TPC-H data into the Big Data Cluster"
   ]
  },
  {
   "cell_type": "markdown",
   "metadata": {},
   "source": [
    "\n",
    " <a href=\"HPECSI-BDC-Workload.ipynb#tpch\" target=\"New\" title=\"Next: Create a Workload : Import the TPC-H data into the Big Data Cluster\"><button type=\"submit\"  class=\"btn btn-lg btn-block\" style=\"background-color:#FFAD33;color:#fff;position:relative;width:10%; height: 30px;float: right;\"><b>Next</b></button></a>\n",
    " <a href=\"HPECSI-BDC-Deploy1.ipynb#deploybdc\" target=\"New\" title=\"Back: Install the Big Data Cluster\"><button type=\"submit\"  class=\"btn btn-lg btn-block\" style=\"background-color:#FFAD33;color:#fff;position:relative;width:10%; height: 30px;float: left;\"><b>Back</b></button></a>"
   ]
  },
  {
   "cell_type": "markdown",
   "metadata": {},
   "source": [
    "<p style=\"display: block;margin-left: auto;margin-right: auto;width:10%;\" ><a href=\"#connect\" title=\"TOP\"><i class=\"fas fa-2x fa-chevron-circle-up\" style=\"color:#FFAD33;\"></i></a></p>"
   ]
  },
  {
   "cell_type": "code",
   "execution_count": null,
   "metadata": {},
   "outputs": [],
   "source": []
  }
 ],
 "metadata": {
  "kernelspec": {
   "display_name": "Bash",
   "language": "bash",
   "name": "bash"
  },
  "language_info": {
   "codemirror_mode": "shell",
   "file_extension": ".sh",
   "mimetype": "text/x-sh",
   "name": "bash"
  }
 },
 "nbformat": 4,
 "nbformat_minor": 4
}
