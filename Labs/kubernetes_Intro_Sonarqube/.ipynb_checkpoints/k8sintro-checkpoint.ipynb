{
 "cells": [
  {
   "cell_type": "markdown",
   "metadata": {},
   "source": [
    "<link rel=\"stylesheet\" type=\"text/css\" href=\"css/bootstrap.min.css\">\n",
    "<link rel=\"stylesheet\" type=\"text/css\" href=\"css/fontawesome.min.css\">\n",
    "<style type=\"text/css\" media=\"screen\">\n",
    "a:link { color:#FFFFFF; text-decoration: none; }\n",
    "a:visited { color:#FFFFFF; text-decoration: none; }\n",
    "a:hover { color:#FFFFFF; text-decoration: none; }\n",
    "a:active { color:#FFFFFF; text-decoration: underline; }\n",
    "</style>\n",
    "\n",
    "# Kubernetes and SonarQube\n",
    "<img src=\"imgs/Kubernetes_banner.jpg\" alt=\"drawing\" width=\"800px\" height=\"280px\"/>\n",
    "<br>\n",
    "\n",
    "## Using SonarQube on kubernetes cluster\n",
    "\n",
    "#### Part 1 : Deploying a stand-alone SonarQube Instance into a Kubernetes Cluster\n",
    "<br>\n",
    "<br>\n",
    "\n",
    "Emmanuel COLUSSI – Sales Engineer\n",
    "\n",
    "\n",
    "\n",
    "\n",
    "\n",
    "\n"
   ]
  },
  {
   "cell_type": "markdown",
   "metadata": {},
   "source": [
    "<br>\n",
    "<br>\n",
    "<br>\n",
    "<br>\n",
    "\n",
    "\n",
    "## <i class=\"far fa-2x fa-comment-dots\" style=\"color:#FFAD33;\"></i>&nbsp;&nbsp;About This Demonstration Live"
   ]
  },
  {
   "cell_type": "markdown",
   "metadata": {},
   "source": [
    "<p>Welcome to this Sonar solutions Demo Portal Lab on SonarQube for Kubernetes Lab.</p>\n",
    "<p>Kubernetes  allows you to create and manage containers. From a perspective of SonarQube, kubernetes provides:</p>\n",
    "<uL>\n",
    "    <li>A scalable architecture to deploy containerized applications and data platforms such as SonarQube</li>\n",
    "    <li>Built-in load balancers to abstract application connections to SonarQube</li>\n",
    "    <li>Built-in high availability for stateful containers like SonarQube</li>\n",
    "    <li>An ecosystem for Operators to simplify application deployment and manage high availability</li>\n",
    "</ul>    \n"
   ]
  },
  {
   "cell_type": "markdown",
   "metadata": {},
   "source": [
    "## <i class=\"fas fa-2x fa-check\" style=\"color:#FFAD33;\"></i>&nbsp;&nbsp;Learning Objectives\n"
   ]
  },
  {
   "cell_type": "markdown",
   "metadata": {},
   "source": [
    "<p>When you complete this course, you will be able to:</p>\n",
    "<ul>\n",
    "<li>Understand Kubernetes</li>\n",
    "<li>Understand Kubernetes deployment : yaml files, helm</li>\n",
    "<li>Understand Dynamic Provisionning , Persitent Storage on Kubernetes</li>        \n",
    "<li>Understand the basics of deploying SonarQube on an Kubernetes cluster.</li>  \n",
    "</ul>"
   ]
  },
  {
   "cell_type": "markdown",
   "metadata": {},
   "source": [
    "## <i class=\"fas fa-2x fa-city\" style=\"color:#FFAD33;\"></i>&nbsp;&nbsp;Business Applications of this Demontration"
   ]
  },
  {
   "cell_type": "markdown",
   "metadata": {},
   "source": [
    "<ul>\n",
    "    <li>Developers looking to deploy a SonarQube container on Kubernetes.</li>\n",
    "\n",
    "</ul>    "
   ]
  },
  {
   "cell_type": "markdown",
   "metadata": {},
   "source": [
    "## <i class=\"fas fa-2x fa-cogs\" style=\"color:#FFAD33;\"></i>&nbsp;&nbsp;Infrastructure description"
   ]
  },
  {
   "cell_type": "markdown",
   "metadata": {},
   "source": [
    "<p>The infrastructure of the platform is composed of:</p>\n",
    "    <ul>\n",
    "     <li> <i class=\"fas fa-server\" style=\"color:#FFAD33;\"></i>&nbsp;&nbsp;2 Control plane nodes </li>\n",
    "    <li>  <i class=\"fas fa-server\" style=\"color:#FFAD33;\"></i>&nbsp;&nbsp;2 Worker nodes </li>\n",
    "    <li>  <i class=\"fas fa-database\" style=\"color:#FFAD33;\"></i>&nbsp;&nbsp;A CSI Storage in azure</li>\n",
    "     <li>  <i class=\"fas fa-database\" style=\"color:#FFAD33;\"></i>&nbsp;&nbsp;2 Azure Zones</li>\n",
    "</ul>\n",
    "<ul>\n",
    "    <li><i class=\"fab fa-microsoft\"style=\"color:blue\"></i>&nbsp;&nbsp;SonarQube 9.9 container</li>\n",
    "    <li><i class=\"fas fa-dharmachakra\" style=\"color:blue\"></i>&nbsp;&nbsp;Kubernetes 1.25.5</li>\n",
    "</ul>    \n",
    "This infrastructure is hosted by Azure for the Kubernetes cluster we use the AKS (Azure Kubernetes Service)         "
   ]
  },
  {
   "cell_type": "markdown",
   "metadata": {},
   "source": [
    "<img src=\"imgs/k8sazure1.png\" alt=\"drawing\" width=80%/>"
   ]
  },
  {
   "cell_type": "markdown",
   "metadata": {},
   "source": [
    "<br><br><br>\n",
    "\n",
    "## <i class=\"fas fa-2x fa-user-graduate\" style=\"color:#FFAD33;\"></i>&nbsp;&nbsp;Demonstration Details"
   ]
  },
  {
   "cell_type": "markdown",
   "metadata": {},
   "source": [
    "<p>This Demonstration uses Kubernetes,Docker , SonarQube 9.7.1, HELM, and the Kubernetes CLI (kubectl).</p>"
   ]
  },
  {
   "cell_type": "markdown",
   "metadata": {},
   "source": [
    "<table class=\"table\" style=\"font-size: 14px;\">\n",
    "  <tbody>\n",
    "      <tr>\n",
    "        <td style=\"width:20%;\"><b>Primary Audience:</b></td><td>Administrators looking to learn how to deploy, use, and manage SonarQube on kubernetes</td>\n",
    "    </tr>\n",
    "    <tr>\n",
    "        <td style=\"width:20%;\"><b>Secondary Audience:</b></td><td>Architects, Developers and IT Pros</td>\n",
    "    </tr>\n",
    "      <tr>\n",
    "          <td style=\"width:20%;\"><b>Type:</b></td><td>Interactif Demonstration</td>\n",
    "      </tr>  \n",
    "      <tr>\n",
    "        <td style=\"width:20%;\"><b>Length: </b></td><td>2 hours</td>\n",
    "    </tr>\n",
    " </tbody>\n",
    "</table>    "
   ]
  },
  {
   "cell_type": "markdown",
   "metadata": {},
   "source": [
    "<br><br><br>\n",
    "\n",
    "## <i class=\"fas fa-2x fa-book\" style=\"color:#FFAD33;\"></i><i class=\"fas fa-2x fa-pencil-alt\" style=\"color:#FFAD33;\"></i>&nbsp;&nbsp;Demonstration Modules"
   ]
  },
  {
   "cell_type": "markdown",
   "metadata": {},
   "source": [
    "<table class=\"table\" style=\"font-size: 14px;\">\n",
    "  <tbody>\n",
    "    <tr>\n",
    "        <td style=\"width:40%;\"><b>Module</b> </td> <td><b>Topics</b></td>\n",
    "    </tr>\n",
    "    <tr>\n",
    "        <td><b><a href=\"k8smain.ipynb#main#main\" target=\"New\" title=\"Next: Introduction\">What is Kubernetes</a></b></td><td>Introduction on Kubernetes , main kubernetes components : Name space, pod, volume, service , deployment</td>\n",
    "    </tr>\n",
    "    <tr>\n",
    "        <td><b><a href=\"k8slabs.ipynb#comp\" target=\"New\" title=\"Next: Create Storage Class\">Deploy Database Application</a></b></td><td>Learn to create a Namespace, Persistent Volume Claim (PVC) and a deploy an Database Application</td>\n",
    "    </tr>\n",
    "      <tr>\n",
    "          <td><b><a href=\"k8slabs2.ipynb#comp\" target=\"New\" title=\"Next: Create Persitent Volume\">Deploy SonarQube EE Application</a></b></td><td>Learn to deploy SonarQube EE Application with YAML File</td>\n",
    "      </tr>  \n",
    "      <tr>\n",
    "        <td><b><a href=\"k8slabs3.ipynb#comp\" target=\"New\" title=\"Next: Deploy SonarQube Workload\">Troubleshooting SonarQube EE Application</a></b></td><td>Learn troubleshooting SonarQube on Kubernetes</td>\n",
    "    </tr>    \n",
    " </tbody>\n",
    "</table>    "
   ]
  },
  {
   "cell_type": "markdown",
   "metadata": {},
   "source": [
    "## <i class=\"fas fa-2x fa-bullhorn\" style=\"color:#FFAD33;\"></i>&nbsp;&nbsp;Terminology"
   ]
  },
  {
   "cell_type": "markdown",
   "metadata": {},
   "source": [
    "<p>Throughout this demonstration we take for example the connection with the user <b><i>stundent1 </i></b>but all the configurations apply to any user.</p>"
   ]
  },
  {
   "cell_type": "markdown",
   "metadata": {},
   "source": [
    "## <i class=\"fas fa-2x fa-ban\" style=\"color:#FFAD33;\"></i>&nbsp;&nbsp;<span>Before you start</span>&nbsp;&nbsp; <i class=\"fas fa-2x fa-smile\" style=\"color:#FFAD33;\"></i>\n",
    "Before start this demo, please start the reset of the platform, there may be errors, but do not worry that the reset was done correctly at the end by the previous student\n",
    "<div class=\"alert\" style=\"background-color:#FFAD33;color:#fff;\" role=\"alert\">\n",
    "  <p class=\"mb-0\"><i class=\"fas fa-sync-alt\"></i>&nbsp;&nbsp;Run the following command in the next Cells with button <i class=\"fas fa-play\"></i> : </div>"
   ]
  },
  {
   "cell_type": "code",
   "execution_count": null,
   "metadata": {},
   "outputs": [],
   "source": [
    "./resetlab.sh"
   ]
  },
  {
   "cell_type": "markdown",
   "metadata": {},
   "source": [
    "<br><br>\n",
    "\n",
    "## <i class=\"fas fa-2x fa-map-marker-alt\" style=\"color:#FFAD33;\"></i>&nbsp;&nbsp;Next Steps"
   ]
  },
  {
   "cell_type": "markdown",
   "metadata": {
    "tags": []
   },
   "source": [
    "<h2>Next, let's start&nbsp;&nbsp;&nbsp;&nbsp;<a href=\"k8smain.ipynb#main\" target=\"New\" title=\"Next: What is Kubernetes\"><i class=\"fas fa-chevron-circle-right\" style=\"color:#FFAD33;\"></i></a></h2>"
   ]
  }
 ],
 "metadata": {
  "kernelspec": {
   "display_name": "Bash",
   "language": "bash",
   "name": "bash"
  },
  "language_info": {
   "codemirror_mode": "shell",
   "file_extension": ".sh",
   "mimetype": "text/x-sh",
   "name": "bash"
  }
 },
 "nbformat": 4,
 "nbformat_minor": 4
}
