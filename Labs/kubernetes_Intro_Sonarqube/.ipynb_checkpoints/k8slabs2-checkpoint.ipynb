{
 "cells": [
  {
   "cell_type": "markdown",
   "metadata": {},
   "source": [
    "<link rel=\"stylesheet\" type=\"text/css\" href=\"css/bootstrap.min.css\">\n",
    "<link rel=\"stylesheet\" type=\"text/css\" href=\"css/fontawesome.min.css\">\n",
    "<style type=\"text/css\" media=\"screen\">\n",
    "a:link { color:#FFFFFF; text-decoration: none; }\n",
    "a:visited { color:#FFFFFF; text-decoration: none; }\n",
    "a:hover { color:#FFFFFF; text-decoration: none; }\n",
    "a:active { color:#FFFFFF; text-decoration: underline; }\n",
    "</style>\n",
    "\n",
    "<img src=\"imgs/Kubernetes_banner.jpg\" alt=\"drawing\" width=\"800px\" height=\"280px\"/>\n",
    "<br>\n",
    "<a id=\\\"comp\\\" style=\\\"text-decoration:none;\\\"><h1>Using SonarQube on kubernetes cluster</h1></a>\n",
    "\n",
    "#### Deploy SonarQube EE Application\n",
    "<br>\n",
    "<br>\n",
    "\n",
    "Emmanuel COLUSSI – Sales Engineer\n",
    "\n"
   ]
  },
  {
   "cell_type": "markdown",
   "metadata": {},
   "source": [
    "<br>\n",
    "<br>\n",
    "<br>\n",
    "\n",
    "## <i class=\"far fa-2x fa-comment-dots\" style=\"color:#FFAD33;\"></i>&nbsp;&nbsp;Notice"
   ]
  },
  {
   "cell_type": "markdown",
   "metadata": {},
   "source": [
    "<p>In this module you will create a sonarqube EE deployment workload</p>\n",
    "<p>In this deployment you will create : </p>\n",
    "    \n",
    "- 3 PVCs for sonarqube (Data,Logs,Ext)\n",
    "- 1 service\n",
    "\n",
    "<p>We will connect to an AKS cluster with 2 nodes.We will use the command line tool (<b>kubectl</b>)</p>\n",
    "<p>Kubernetes provides a command line tool for communicating with a kubernetes cluster's control plane,using the kubernetes API<p>"
   ]
  },
  {
   "cell_type": "markdown",
   "metadata": {},
   "source": [
    "<i class=\"fas fa-2x fa-walking\" style=\"color:#FFAD33;\"></i>&nbsp;&nbsp;STEP 1: create a SonarQube configmap"
   ]
  },
  {
   "cell_type": "markdown",
   "metadata": {},
   "source": [
    "<div class=\"alert\" style=\"background-color:#FFAD33;color:#fff;\" role=\"alert\">\n",
    "  <p class=\"mb-0\"><i class=\"fas fa-sync-alt\"></i>&nbsp;&nbsp;Run the commands in the next Cells with button <i class=\"fas fa-play\"></i> </p>\n",
    "   <hr>\n",
    "  <p class=\"mb-0\">These commands will create a configmap</p>\n",
    "  <p>You must initialize the following variables : before replace X by your stundent number</p>\n",
    "    <ul>\n",
    "        <li>export NAMESPACE=\"studentX\"</li>\n",
    "        <li>eexport SONARQUBE_JDBC_USERNAME=\"sonarqube\"</li>\n",
    "        <li>export SONARQUBE_JDBC_PASSWORD=\"sonarqube\"</li>\n",
    "        <li>export DATABASE=\"sonarqube9\"</li>\n",
    "    </ul>    \n",
    "</div>"
   ]
  },
  {
   "cell_type": "code",
   "execution_count": null,
   "metadata": {},
   "outputs": [],
   "source": [
    "export NAMESPACE=\"studentX\";\n",
    "export SONARQUBE_JDBC_USERNAME=\"sonarqube\";\n",
    "export SONARQUBE_JDBC_PASSWORD=\"sonarqube\";\n",
    "export DATABASE=\"sonarqube9\";\n",
    "export CLUSTIP=`kubectl -n ${NAMESPACE} get -o template service/pgsql-svc1 --template='{{.spec.clusterIP}}'`;"
   ]
  },
  {
   "cell_type": "code",
   "execution_count": null,
   "metadata": {},
   "outputs": [],
   "source": [
    "cat <<EOF | kubectl apply -f -\n",
    "apiVersion: v1\n",
    "kind: ConfigMap\n",
    "metadata:\n",
    "  name: sonarqube-config \n",
    "  namespace: ${NAMESPACE}\n",
    "data:\n",
    "    SONAR_SEARCH_JAVAADDITIONALOPTS: \"-Dbootstrap.system_call_filter=false\"\n",
    "    SONAR_JDBC_USERNAME: \"sonarqube\"\n",
    "    SONAR_JDBC_PASSWORD: \"sonarqube\"\n",
    "    SONAR_JDBC_URL: \"jdbc:postgresql://${CLUSTIP}:5432/sonarqube9\"\n",
    "EOF"
   ]
  },
  {
   "cell_type": "markdown",
   "metadata": {
    "tags": []
   },
   "source": [
    "<div class=\"alert\" style=\"background-color:#FFAD33;color:#fff;\" role=\"alert\">\n",
    "  \n",
    "  <p><i class=\"fas fa-eye\"></i>&nbsp;&nbsp;Check that configmap was created successfully : </p>\n",
    "    <hr>\n",
    "    <p class=\"mb-0\"><i class=\"fas fa-sync-alt\"></i>&nbsp;&nbsp;Run the following command in the next Cell with button <i class=\"fas fa-play\"></i> </p>\n",
    " \n",
    "</div>"
   ]
  },
  {
   "cell_type": "code",
   "execution_count": null,
   "metadata": {},
   "outputs": [],
   "source": [
    "kubectl -n $NAMESPACE get configmap sonarqube-config"
   ]
  },
  {
   "cell_type": "markdown",
   "metadata": {},
   "source": [
    "<i class=\"fas fa-2x fa-walking\" style=\"color:#FFAD33;\"></i>&nbsp;&nbsp;STEP 2: create a PersistentVolumeClaim (PVC)"
   ]
  },
  {
   "cell_type": "markdown",
   "metadata": {},
   "source": [
    "<i class=\"fas fa-hand-point-right\" style=\"color:#FFAD33;\"></i><b>&nbsp;&nbsp;We will create 3 PVCs (Data,Logs,Ext)\n",
    "  <p class=\"mb-0\"><i class=\"fas fa-sync-alt\"></i>&nbsp;&nbsp;Run the following command in the next Cell with button <i class=\"fas fa-play\"></i> </p>    "
   ]
  },
  {
   "cell_type": "code",
   "execution_count": null,
   "metadata": {},
   "outputs": [],
   "source": [
    "cat <<EOF | kubectl apply -f -\n",
    "apiVersion: v1\n",
    "kind: PersistentVolumeClaim\n",
    "metadata:\n",
    "  name: sonarqube-data\n",
    "  namespace:  ${NAMESPACE}\n",
    "spec:\n",
    "  accessModes:\n",
    "  - ReadWriteOnce\n",
    "  resources:\n",
    "    requests:\n",
    "      storage: 10Gi\n",
    "  storageClassName: partner-sc\n",
    "---\n",
    "apiVersion: v1\n",
    "kind: PersistentVolumeClaim\n",
    "metadata:\n",
    "  name: sonarqube-logs\n",
    "  namespace:  ${NAMESPACE}\n",
    "spec:\n",
    "  accessModes:\n",
    "  - ReadWriteOnce\n",
    "  resources:\n",
    "    requests:\n",
    "      storage: 5Gi\n",
    "  storageClassName: partner-sc\n",
    "---\n",
    "apiVersion: v1\n",
    "kind: PersistentVolumeClaim\n",
    "metadata:\n",
    "  name: sonarqube-ext\n",
    "  namespace:  ${NAMESPACE}\n",
    "spec:\n",
    "  accessModes:\n",
    "  - ReadWriteOnce\n",
    "  resources:\n",
    "    requests:\n",
    "      storage: 10Gi\n",
    "  storageClassName: partner-sc\n",
    "\n",
    "EOF\n"
   ]
  },
  {
   "cell_type": "markdown",
   "metadata": {},
   "source": [
    "<div class=\"alert\" style=\"background-color:#FFAD33;color:#fff;\" role=\"alert\">\n",
    "  \n",
    "  <p><i class=\"fas fa-eye\"></i>&nbsp;&nbsp;Check that PVC was created successfully : </p>\n",
    "    <hr>\n",
    "    <p class=\"mb-0\"><i class=\"fas fa-sync-alt\"></i>&nbsp;&nbsp;Run the following command in the next Cell with button <i class=\"fas fa-play\"></i> </p>\n",
    " \n",
    "</div>"
   ]
  },
  {
   "cell_type": "code",
   "execution_count": null,
   "metadata": {},
   "outputs": [],
   "source": [
    "kubectl -n $NAMESPACE get pvc"
   ]
  },
  {
   "cell_type": "markdown",
   "metadata": {},
   "source": [
    "<i class=\"fas fa-2x fa-walking\" style=\"color:#FFAD33;\"></i>&nbsp;&nbsp;STEP 3: Deploy SonarQube EE"
   ]
  },
  {
   "cell_type": "raw",
   "metadata": {},
   "source": [
    "apiVersion: apps/v1\n",
    "kind: Deployment\n",
    "metadata:\n",
    "  labels:\n",
    "    app: sonarqube\n",
    "    deploymentName: sonarqube01-deployment01\n",
    "  name: sonarqube01-deployment01\n",
    "spec:\n",
    "  replicas: 1\n",
    "  selector:\n",
    "    matchLabels:\n",
    "      app: sonarqube\n",
    "      deploymentName: sonarqube01-deployment01\n",
    "  template:\n",
    "    metadata:\n",
    "      creationTimestamp: null\n",
    "      labels:\n",
    "        app: sonarqube\n",
    "        deploymentName: sonarqube01-deployment01\n",
    "      name: sonarqube\n",
    "    spec:\n",
    "      automountServiceAccountToken: true\n",
    "      containers:\n",
    "        image: sonarqube:9.9-enterprise\n",
    "        imagePullPolicy: IfNotPresent\n",
    "        name: sonarqube\n",
    "        ports:\n",
    "        - containerPort: 9000\n",
    "          protocol: TCP\n",
    "        envFrom:\n",
    "          - configMapRef:\n",
    "              name: sonarqube-config\n",
    "        securityContext:\n",
    "          allowPrivilegeEscalation: true\n",
    "          privileged: true\n",
    "          readOnlyRootFilesystem: false\n",
    "          runAsGroup: 1000\n",
    "          runAsNonRoot: false\n",
    "          runAsUser: 1000\n",
    "        volumeMounts:\n",
    "        - mountPath: /opt/sonarqube/data\n",
    "          mountPropagation: None\n",
    "          name: sonarqube-data\n",
    "        - mountPath: /opt/sonarqube/logs\n",
    "          mountPropagation: None\n",
    "          name: sonarqube-logs\n",
    "        - mountPath: /opt/sonarqube/extensions\n",
    "          mountPropagation: None\n",
    "          name: sonarqube-extensions\n",
    "      enableServiceLinks: true\n",
    "      initContainers:\n",
    "      - command:\n",
    "        - /bin/sh\n",
    "        - -c\n",
    "        - sysctl -w vm.max_map_count=262144\n",
    "        image: busybox:1.32\n",
    "        imagePullPolicy: IfNotPresent\n",
    "        name: sonarqube-es-init\n",
    "        resources: {}\n",
    "        securityContext:\n",
    "          allowPrivilegeEscalation: true\n",
    "          privileged: true\n",
    "          readOnlyRootFilesystem: false\n",
    "          runAsNonRoot: false\n",
    "          runAsUser: 0\n",
    "      - command:\n",
    "        - /bin/sh\n",
    "        - -c\n",
    "        - mkdir -p /opt/sonarqube/extensions/jdbc-driver/oracle && wget -O /opt/sonarqube/extensions/jdbc-driver/oracle/ojdbc11.jar  https://download.oracle.com/otn-pub/otn_software/jdbc/217/ojdbc11.jar\n",
    "          && chown -R 1000:1000 /opt/sonarqube/extensions && chmod -R 777 /opt/sonarqube/extensions\n",
    "        image: busybox:1.32\n",
    "        imagePullPolicy: IfNotPresent\n",
    "        name: sonarqube-es-init2\n",
    "        resources: {}\n",
    "        securityContext:\n",
    "          allowPrivilegeEscalation: true\n",
    "          privileged: true\n",
    "          readOnlyRootFilesystem: false\n",
    "          runAsNonRoot: false\n",
    "          runAsUser: 0\n",
    "        volumeMounts:\n",
    "        - mountPath: /opt/sonarqube/extensions\n",
    "          mountPropagation: None\n",
    "          name: sonarqube-ext\n",
    "      - command:\n",
    "        - /bin/sh\n",
    "        - -c\n",
    "        - chown -R 1000:1000 /opt/sonarqube/data && chmod -R 777 /opt/sonarqube/data\n",
    "        image: busybox\n",
    "        imagePullPolicy: IfNotPresent\n",
    "        name: sonarqube-es-init3\n",
    "        resources: {}\n",
    "        securityContext:\n",
    "          allowPrivilegeEscalation: true\n",
    "          privileged: true\n",
    "          readOnlyRootFilesystem: false\n",
    "          runAsNonRoot: false\n",
    "          runAsUser: 0\n",
    "        volumeMounts:\n",
    "        - mountPath: /opt/sonarqube/data\n",
    "          mountPropagation: None\n",
    "          name: sonarqube-data\n",
    "      - command:\n",
    "        - /bin/sh\n",
    "        - -c\n",
    "        - chown -R 1000:1000 /opt/sonarqube/logs && chmod -R 777 /opt/sonarqube/logs\n",
    "        image: busybox\n",
    "        imagePullPolicy: IfNotPresent\n",
    "        name: sonarqube-es-init4\n",
    "        resources: {}\n",
    "        securityContext:\n",
    "          allowPrivilegeEscalation: true\n",
    "          privileged: true\n",
    "          readOnlyRootFilesystem: false\n",
    "          runAsNonRoot: false\n",
    "          runAsUser: 0\n",
    "        volumeMounts:\n",
    "        - mountPath: /opt/sonarqube/logs\n",
    "          mountPropagation: None\n",
    "          name: sonarqube-logs\n",
    "      securityContext:\n",
    "        runAsGroup: 1000\n",
    "        runAsNonRoot: false\n",
    "        runAsUser: 1000\n",
    "      shareProcessNamespace: false\n",
    "      terminationGracePeriodSeconds: 30\n",
    "      volumes:\n",
    "      - name: sonarqube-data\n",
    "        persistentVolumeClaim:\n",
    "          claimName: sonarqube-data\n",
    "      - name: sonarqube-logs\n",
    "        persistentVolumeClaim:\n",
    "          claimName: sonarqube-logs\n",
    "      - name: sonarqube-ext\n",
    "        persistentVolumeClaim:\n",
    "          claimName: sonarqube-ext\n",
    "---\n",
    "apiVersion: v1\n",
    "kind: Service\n",
    "metadata:\n",
    "  name: sonarqube-svc1 \n",
    "  labels:\n",
    "    app: sonarqube\n",
    "spec:\n",
    "  type: LoadBalancer \n",
    "  ports:\n",
    "   - port: 9000\n",
    "  selector:\n",
    "   app: sonarqube"
   ]
  },
  {
   "cell_type": "markdown",
   "metadata": {},
   "source": [
    "<div class=\"alert\" style=\"background-color:#FFAD33;color:#fff;\" role=\"alert\">\n",
    "  <p class=\"mb-0\"><p class=\"mb-0\"><i class=\"fas fa-sync-alt\"></i>&nbsp;&nbsp;Run the command in the next Cell with button <i class=\"fas fa-play\"></i> </p>\n",
    "   <hr>\n",
    "  <p class=\"mb-0\">This command deploy SonarQube EE : 1 pod, 1 services</p>  \n",
    " \n",
    "</div>"
   ]
  },
  {
   "cell_type": "code",
   "execution_count": null,
   "metadata": {
    "tags": []
   },
   "outputs": [],
   "source": [
    "kubectl apply -f scripts/deploy-sq-ee.yaml  -n $NAMESPACE"
   ]
  },
  {
   "cell_type": "markdown",
   "metadata": {},
   "source": [
    "<div class=\"alert\" style=\"background-color:#FFAD33;color:#fff;\" role=\"alert\">\n",
    "  \n",
    "  <p><i class=\"fas fa-eye\"></i>&nbsp;&nbsp;Check that SonarQube deployment is successfully : a few minutes sonarQube is operational</p>\n",
    "    <hr>\n",
    "    <p class=\"mb-0\"><i class=\"fas fa-sync-alt\"></i>&nbsp;&nbsp;Run the following command in the next Cell with button <i class=\"fas fa-play\"></i> </p>\n",
    " \n",
    "</div>"
   ]
  },
  {
   "cell_type": "code",
   "execution_count": null,
   "metadata": {
    "tags": []
   },
   "outputs": [],
   "source": [
    "kubectl get all -n $NAMESPACE"
   ]
  },
  {
   "cell_type": "markdown",
   "metadata": {},
   "source": [
    "<i class=\"fas fa-2x fa-walking\" style=\"color:#FFAD33;\"></i>&nbsp;&nbsp;STEP 4: Patch Ingress map : add SonarQube service"
   ]
  },
  {
   "cell_type": "markdown",
   "metadata": {},
   "source": [
    "<div class=\"alert\" style=\"background-color:#FFAD33;color:#fff;\" role=\"alert\">\n",
    "    <p class=\"mb-0\"><i class=\"fas fa-sync-alt\"></i>&nbsp;&nbsp;Run the following command in the next Cell with button <i class=\"fas fa-play\"></i> </p>\n",
    "</div>"
   ]
  },
  {
   "cell_type": "code",
   "execution_count": null,
   "metadata": {},
   "outputs": [],
   "source": [
    "export INGRESS_NS=\"kube-system\";\n",
    "export INGRESS_MAPCONF=\"addon-http-application-routing-tcp-services\";\n",
    "export INGRESS_DEPLOY=\"addon-http-application-routing-nginx-ingress-controller\";\n",
    "kubectl -n ${INGRESS_NS} patch configmap ${INGRESS_MAPCONF} --patch '{\"data\":{\"9000\":\"default/${var.name}-service:9000\"}}';\n",
    "kubectl -n ${INGRESS_NS} patch deployment ${INGRESS_DEPLOY} --patch \"$(cat scripts/patch-ingress-nginx-deploy.yaml)\";"
   ]
  },
  {
   "cell_type": "markdown",
   "metadata": {},
   "source": [
    "<i class=\"fas fa-2x fa-walking\" style=\"color:#FFAD33;\"></i>&nbsp;&nbsp;STEP 5:connect to SonarQube with EXTERNAL-IP (in this example : 20.93.183.221) "
   ]
  },
  {
   "cell_type": "markdown",
   "metadata": {},
   "source": [
    "<img src=\"imgs/sqlogin.png\" alt=\"drawing\" width=\"800px\" height=\"280px\"/>"
   ]
  },
  {
   "cell_type": "markdown",
   "metadata": {},
   "source": [
    "</br></br>\n",
    "<div class=\"alert\" style=\"background-color:#FFAD33;color:#fff;width:100%\" role=\"alert\">\n",
    "  <p style=\"font-size:20px;display: block;text-align:center;margin-left: auto;margin-right: auto;\"><i class=\"fas fa-4x fa-smile\"></i>&nbsp;&nbsp;Congratulations on completing the module&nbsp;&nbsp;<i class=\"fas fa-4x fa-praying-hands\"></i></p>\n",
    "</div>  "
   ]
  },
  {
   "cell_type": "markdown",
   "metadata": {},
   "source": [
    "<br><br>\n",
    "\n",
    "## <i class=\"fas fa-2x fa-map-marker-alt\" style=\"color:#FFAD33;\"></i>&nbsp;&nbsp;Next Steps\n",
    "\n",
    "Troubleshooting SonarQube"
   ]
  },
  {
   "cell_type": "markdown",
   "metadata": {},
   "source": [
    " <a href=\"k8slabs3.ipynb#begin\" target=\"New\" title=\"Next: Troubleshooting SonarQube\"><button type=\"submit\"  class=\"btn btn-lg btn-block\" style=\"background-color:#FFAD33;color:#fff;position:relative;width:10%; height: 30px;float: right;\"><b>Next</b></button></a>\n",
    " <a href=\"k8slabs.ipynb#deploybdc\" target=\"New\" title=\"Back: Deploy an Database Application\"><button type=\"submit\"  class=\"btn btn-lg btn-block\" style=\"background-color:#FFAD33;color:#fff;position:relative;width:10%; height: 30px;float: left;\"><b>Back</b></button></a>"
   ]
  },
  {
   "cell_type": "code",
   "execution_count": null,
   "metadata": {},
   "outputs": [],
   "source": []
  }
 ],
 "metadata": {
  "kernelspec": {
   "display_name": "Bash",
   "language": "bash",
   "name": "bash"
  },
  "language_info": {
   "codemirror_mode": "shell",
   "file_extension": ".sh",
   "mimetype": "text/x-sh",
   "name": "bash"
  }
 },
 "nbformat": 4,
 "nbformat_minor": 4
}
