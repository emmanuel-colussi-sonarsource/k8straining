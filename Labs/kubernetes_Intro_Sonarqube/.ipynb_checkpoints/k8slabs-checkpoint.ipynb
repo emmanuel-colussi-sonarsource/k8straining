{
 "cells": [
  {
   "cell_type": "markdown",
   "metadata": {},
   "source": [
    "<link rel=\"stylesheet\" type=\"text/css\" href=\"css/bootstrap.min.css\">\n",
    "<link rel=\"stylesheet\" type=\"text/css\" href=\"css/fontawesome.min.css\">\n",
    "<style type=\"text/css\" media=\"screen\">\n",
    "a:link { color:#FFFFFF; text-decoration: none; }\n",
    "a:visited { color:#FFFFFF; text-decoration: none; }\n",
    "a:hover { color:#FFFFFF; text-decoration: none; }\n",
    "a:active { color:#FFFFFF; text-decoration: underline; }\n",
    "</style>\n",
    "\n",
    "<img src=\"imgs/Kubernetes_banner.jpg\" alt=\"drawing\" width=\"800px\" height=\"280px\"/>\n",
    "<br>\n",
    "<a id=\\\"comp\\\" style=\\\"text-decoration:none;\\\"><h1>Using SonarQube on kubernetes cluster</h1></a>\n",
    "\n",
    "#### Deploy an Database Application\n",
    "<br>\n",
    "<br>\n",
    "\n",
    "Emmanuel COLUSSI – Sales Engineer\n",
    "\n"
   ]
  },
  {
   "cell_type": "markdown",
   "metadata": {},
   "source": [
    "<br>\n",
    "<br>\n",
    "<br>\n",
    "\n",
    "## <i class=\"far fa-2x fa-comment-dots\" style=\"color:#FFAD33;\"></i>&nbsp;&nbsp;Notice"
   ]
  },
  {
   "cell_type": "markdown",
   "metadata": {},
   "source": [
    "<p>In this module you will create a namespace with the name studentX (replace X with the number you were given when you logged in, example : (<b>student1</b>).</p>\n",
    "<p>In this namespace you will: </p>\n",
    "    \n",
    "- Create a PersistentVolumeClaim (PVC for the persistence of your database)\n",
    "- Deploy a PostgreSQL instance   \n",
    "\n",
    "<p>We will connect to an AKS cluster with 2 nodes.We will use the command line tool (<b>kubectl</b>)</p>\n",
    "<p>Kubernetes provides a command line tool for communicating with a kubernetes cluster's control plane,using the kubernetes API<p>"
   ]
  },
  {
   "cell_type": "markdown",
   "metadata": {},
   "source": [
    "<i class=\"fas fa-2x fa-walking\" style=\"color:#FFAD33;\"></i>&nbsp;&nbsp;STEP 1: show the nodes in the kubernetes cluster"
   ]
  },
  {
   "cell_type": "markdown",
   "metadata": {},
   "source": [
    "<div class=\"alert\" style=\"background-color:#FFAD33;color:#fff;\" role=\"alert\">\n",
    "  <p class=\"mb-0\"><i class=\"fas fa-sync-alt\"></i>&nbsp;&nbsp;Run the commands in the next Cells with button <i class=\"fas fa-play\"></i> </p>\n",
    "   <hr>\n",
    "  <p class=\"mb-0\">This command to get all worker node in the kubernetes cluster</p>\n",
    "  \n",
    "</div>"
   ]
  },
  {
   "cell_type": "code",
   "execution_count": null,
   "metadata": {},
   "outputs": [],
   "source": [
    "kubectl get nodes -o wide"
   ]
  },
  {
   "cell_type": "markdown",
   "metadata": {
    "tags": []
   },
   "source": [
    "<i class=\"fas fa-2x fa-walking\" style=\"color:#FFAD33;\"></i>&nbsp;&nbsp;STEP 2: create a namespace"
   ]
  },
  {
   "cell_type": "markdown",
   "metadata": {
    "tags": []
   },
   "source": [
    "<div class=\"alert\" style=\"background-color:#FFAD33;color:#fff;\" role=\"alert\">\n",
    "  <p class=\"mb-0\"><i class=\"fas fa-sync-alt\"></i>&nbsp;&nbsp;Run the commands in the next Cells with button , before replace X by your stundent number <i class=\"fas fa-play\"></i> </p>\n",
    "   <hr>\n",
    "  <p class=\"mb-0\">This command create a namespace</p>\n",
    "  \n",
    "</div>"
   ]
  },
  {
   "cell_type": "code",
   "execution_count": null,
   "metadata": {},
   "outputs": [],
   "source": [
    "kubectl create ns studentX"
   ]
  },
  {
   "cell_type": "markdown",
   "metadata": {},
   "source": [
    "<i class=\"fa fa-external-link\" style=\"color:#FFAD33;\" aria-hidden=\"true\"></i>&nbsp;&nbsp;Check that namespace was created successfully"
   ]
  },
  {
   "cell_type": "markdown",
   "metadata": {},
   "source": [
    "<div class=\"alert\" style=\"background-color:#FFAD33;color:#fff;\" role=\"alert\">\n",
    "  <p class=\"mb-0\"><i class=\"fas fa-sync-alt\"></i>&nbsp;&nbsp;Run the commands in the next Cells with button <i class=\"fas fa-play\"></i> </p>\n",
    "   <hr>\n",
    "  <p class=\"mb-0\">This command list a namespace</p>\n",
    "  \n",
    "</div>"
   ]
  },
  {
   "cell_type": "code",
   "execution_count": null,
   "metadata": {},
   "outputs": [],
   "source": [
    "kubectl get ns studentX"
   ]
  },
  {
   "cell_type": "markdown",
   "metadata": {},
   "source": [
    "<i class=\"fas fa-hand-point-right\" style=\"color:#FFAD33;\"></i><b>&nbsp;&nbsp; Export your Namespace"
   ]
  },
  {
   "cell_type": "markdown",
   "metadata": {},
   "source": [
    "<div class=\"alert\" style=\"background-color:#FFAD33;color:#fff;\" role=\"alert\">\n",
    "  <p class=\"mb-0\"><i class=\"fas fa-sync-alt\"></i>&nbsp;&nbsp;Run the commands in the next Cells with button <i class=\"fas fa-play\"></i> </p>\n",
    "   <hr>\n",
    "  <p class=\"mb-0\">This command export the variable NAMESPACE, replace a value by the name of your namespace</p>\n",
    "  \n",
    "</div>"
   ]
  },
  {
   "cell_type": "code",
   "execution_count": null,
   "metadata": {},
   "outputs": [],
   "source": [
    "export NAMESPACE=student1"
   ]
  },
  {
   "cell_type": "markdown",
   "metadata": {},
   "source": [
    "<i class=\"fas fa-2x fa-walking\" style=\"color:#FFAD33;\"></i>&nbsp;&nbsp;STEP 2: create a PersistentVolumeClaim (PVC)"
   ]
  },
  {
   "cell_type": "markdown",
   "metadata": {},
   "source": [
    "<i class=\"fas fa-hand-point-right\" style=\"color:#FFAD33;\"></i><b>&nbsp;&nbsp; List of storage classes available to create our PVC.We will choose the storage class : <b>partner-sc</b>"
   ]
  },
  {
   "cell_type": "markdown",
   "metadata": {},
   "source": [
    "<div class=\"alert\" style=\"background-color:#FFAD33;color:#fff;\" role=\"alert\">\n",
    "  <p class=\"mb-0\"><i class=\"fas fa-sync-alt\"></i>&nbsp;&nbsp;Run the commands in the next Cells with button <i class=\"fas fa-play\"></i> </p>\n",
    "   <hr>\n",
    "  <p class=\"mb-0\">This command list storage classes available</p>\n",
    "  \n",
    "</div>"
   ]
  },
  {
   "cell_type": "code",
   "execution_count": null,
   "metadata": {},
   "outputs": [],
   "source": [
    "kubectl get sc"
   ]
  },
  {
   "cell_type": "markdown",
   "metadata": {},
   "source": [
    "<link rel=\"stylesheet\" type=\"text/css\" href=\"css/bootstrap.min.css\">\n",
    "<link rel=\"stylesheet\" type=\"text/css\" href=\"css/fontawesome.min.css\">\n",
    "\n",
    "<p class=\"lead\" >In our example we will create a PVC with the following parameters : </p>\n",
    "<table class=\"table\" style=\"font-size: 14px;\">\n",
    "  <tbody>\n",
    "    <tr>\n",
    "        <td><b>name :</b> </td> <td> Name of volume : data01-pgsql </td>\n",
    "    </tr>\n",
    "    <tr>\n",
    "        <td><b>storage :</b></td><td> Size of volume</td>\n",
    "    </tr>\n",
    "    <tr>\n",
    "        <td><b>storageClassName :</b></td><td>Storage Class used for provisioning PVC : partner-sc </td>\n",
    "    </tr>\n",
    " </tbody>\n",
    "</table>  \n",
    "<div class=\"alert\" style=\"background-color:#FFAD33;color:#fff;\" role=\"alert\">\n",
    "  \n",
    "  <p><i class=\"fas fa-file-alt\"></i>&nbsp;&nbsp;PVC file example : create-pvc.yaml</p>\n",
    " \n",
    "</div>"
   ]
  },
  {
   "cell_type": "raw",
   "metadata": {},
   "source": [
    "apiVersion: v1\n",
    "kind: PersistentVolumeClaim\n",
    "metadata:\n",
    "  name: data01-pgsql\n",
    "spec:\n",
    "  accessModes:\n",
    "  - ReadWriteOnce\n",
    "  resources:\n",
    "    requests:\n",
    "      storage: 5Gi\n",
    "  storageClassName: partner-sc"
   ]
  },
  {
   "cell_type": "markdown",
   "metadata": {},
   "source": [
    "<div class=\"alert\" style=\"background-color:#FFAD33;color:#fff;\" role=\"alert\">\n",
    "  <p class=\"mb-0\"><p class=\"mb-0\"><i class=\"fas fa-sync-alt\"></i>&nbsp;&nbsp;Run the command in the next Cell with button <i class=\"fas fa-play\"></i> </p>\n",
    "   <hr>\n",
    "  <p class=\"mb-0\">This command create a PVC data01-pgsql</p>  \n",
    " \n",
    "</div>"
   ]
  },
  {
   "cell_type": "code",
   "execution_count": null,
   "metadata": {},
   "outputs": [],
   "source": [
    "kubectl apply -f scripts/create-pvc.yaml -n $NAMESPACE"
   ]
  },
  {
   "cell_type": "markdown",
   "metadata": {},
   "source": [
    "<div class=\"alert\" style=\"background-color:#FFAD33;color:#fff;\" role=\"alert\">\n",
    "  \n",
    "  <p><i class=\"fas fa-eye\"></i>&nbsp;&nbsp;Check that PVC was created successfully : </p>\n",
    "    <hr>\n",
    "    <p class=\"mb-0\"><i class=\"fas fa-sync-alt\"></i>&nbsp;&nbsp;Run the following command in the next Cell with button <i class=\"fas fa-play\"></i> </p>\n",
    " \n",
    "</div>"
   ]
  },
  {
   "cell_type": "code",
   "execution_count": null,
   "metadata": {},
   "outputs": [],
   "source": [
    "kubectl get pvc -n $NAMESPACE"
   ]
  },
  {
   "cell_type": "markdown",
   "metadata": {},
   "source": [
    "<br>\n",
    "\n",
    "<p class=\"lead\" >In our example we will create a Deployment PostgreSQL with the following parameters : </p>\n",
    "<table class=\"table\" style=\"font-size: 14px;\">\n",
    "  <tbody>\n",
    "    <tr>\n",
    "        <td><b>name :</b> </td> <td> Name of volume : data01-pgsql </td>\n",
    "    </tr>\n",
    "    <tr>\n",
    "        <td><b>storage :</b></td><td> Size of volume</td>\n",
    "    </tr>\n",
    "    <tr>\n",
    "        <td><b>storageClassName :</b></td><td>Storage Class used for provisioning PVC : managed-csi </td>\n",
    "    </tr>\n",
    " </tbody>\n",
    "</table>  \n",
    "<div class=\"alert\" style=\"background-color:#FFAD33;color:#fff;\" role=\"alert\">\n",
    "  \n",
    "  <p><i class=\"fas fa-file-alt\"></i>&nbsp;&nbsp;PostgreSQL deployment example file : deploy-pgsql.yaml</p>\n",
    " \n",
    "</div>"
   ]
  },
  {
   "cell_type": "raw",
   "metadata": {},
   "source": [
    "apiVersion: v1\n",
    "kind: ConfigMap\n",
    "metadata:\n",
    "  name: postgres-config\n",
    "  labels:\n",
    "    app: postgres\n",
    "data:\n",
    "  POSTGRES_DB: postgresdb\n",
    "  POSTGRES_USER: postgresadmin\n",
    "  POSTGRES_PASSWORD: admin123\n",
    "---\n",
    "apiVersion: v1\n",
    "kind: ConfigMap\n",
    "metadata:\n",
    "  name: pgsql-initdb-config\n",
    "data:\n",
    "  initdb.sql: | \n",
    "      #!/bin/bash\n",
    "      set -e\n",
    "      psql -v ON_ERROR_STOP=1 --username \"postgres\" --dbname \"postgres\" <<-EOSQL\n",
    "      CREATE ROLE sonarqube WITH LOGIN PASSWORD 'sonarqube';\n",
    "      CREATE DATABASE sonarqube9 WITH ENCODING 'UTF8' OWNER sonarqube TEMPLATE=template0;\n",
    "      GRANT ALL PRIVILEGES ON DATABASE sonarqube9 TO sonarqube;\n",
    "      EOSQL\n",
    "---\n",
    "apiVersion: extensions/v1beta1\n",
    "kind: Deployment\n",
    "metadata:\n",
    "  name: postgres\n",
    "spec:\n",
    "  replicas: 1\n",
    "  template:\n",
    "    metadata:\n",
    "      labels:\n",
    "        app: postgres\n",
    "    spec:\n",
    "      containers:\n",
    "        - name: postgres\n",
    "          image: postgres:13.9\n",
    "          imagePullPolicy: \"IfNotPresent\"\n",
    "          ports:\n",
    "            - containerPort: 5432\n",
    "          envFrom:\n",
    "            - configMapRef:\n",
    "                name: postgres-config\n",
    "          volumeMounts:\n",
    "            - mountPath: /var/lib/postgresql/data\n",
    "              name: postgredb\n",
    "          volumeMounts:\n",
    "            - mountPath: /docker-entrypoint-initdb.d\n",
    "              name: pgsql-initdb-config\n",
    "      volumes:\n",
    "        - name: postgredb\n",
    "          persistentVolumeClaim:\n",
    "            claimName: data01-pgsql\n",
    "      volumes:\n",
    "        - name: initscript\n",
    "          configMap: \n",
    "            name: pgsql-initdb-config      \n",
    "---\n",
    "apiVersion: v1\n",
    "kind: Service\n",
    "metadata:\n",
    "  name: pgsql-svc1\n",
    "  labels:\n",
    "    app: postgres\n",
    "spec:\n",
    "  type: LoadBalancer"
   ]
  },
  {
   "cell_type": "markdown",
   "metadata": {},
   "source": [
    "<div class=\"alert\" style=\"background-color:#FFAD33;color:#fff;\" role=\"alert\">\n",
    "  <p class=\"mb-0\"><p class=\"mb-0\"><i class=\"fas fa-sync-alt\"></i>&nbsp;&nbsp;Run the command in the next Cell with button <i class=\"fas fa-play\"></i> </p>\n",
    "   <hr>\n",
    "  <p class=\"mb-0\">This command deploy PosgreSQL Database : 1 pod, 1 services</p>  \n",
    " \n",
    "</div>"
   ]
  },
  {
   "cell_type": "code",
   "execution_count": null,
   "metadata": {
    "tags": []
   },
   "outputs": [],
   "source": [
    "kubectl apply -f scripts/deploy-pgsql.yaml  -n $NAMESPACE"
   ]
  },
  {
   "cell_type": "markdown",
   "metadata": {},
   "source": [
    "<div class=\"alert\" style=\"background-color:#FFAD33;color:#fff;\" role=\"alert\">\n",
    "  \n",
    "  <p><i class=\"fas fa-eye\"></i>&nbsp;&nbsp;Check that PostgreSQL deployment is successfully : </p>\n",
    "    <hr>\n",
    "    <p class=\"mb-0\"><i class=\"fas fa-sync-alt\"></i>&nbsp;&nbsp;Run the following command in the next Cell with button <i class=\"fas fa-play\"></i> </p>\n",
    " \n",
    "</div>"
   ]
  },
  {
   "cell_type": "code",
   "execution_count": null,
   "metadata": {},
   "outputs": [],
   "source": [
    "kubectl get all -n $NAMESPACE"
   ]
  },
  {
   "cell_type": "markdown",
   "metadata": {},
   "source": [
    "<div class=\"alert\" style=\"background-color:#FFAD33;color:#fff;\" role=\"alert\">\n",
    "  <p><i class=\"fas fa-eye\"></i>&nbsp;&nbsp;Check that the connection to the sonarqube9 database is successful: </p>\n",
    "    <p>We connect with EXTERNAL-IP of the service (in this example:<b>20.160.252.188</b></p>\n",
    "</div>"
   ]
  },
  {
   "cell_type": "raw",
   "metadata": {},
   "source": [
    "NAME                 TYPE           CLUSTER-IP     EXTERNAL-IP      PORT(S)          AGE\n",
    "service/pgsql-svc1   LoadBalancer   10.0.235.158   20.160.252.188   5432:30313/TCP   10s"
   ]
  },
  {
   "cell_type": "markdown",
   "metadata": {},
   "source": [
    "<div class=\"alert\" style=\"background-color:#FFAD33;color:#fff;\" role=\"alert\">\n",
    "    <p class=\"mb-0\"><i class=\"fas fa-sync-alt\"></i>&nbsp;&nbsp;Run the following command in the next Cell with button <i class=\"fas fa-play\"></i> </p>\n",
    "</div>"
   ]
  },
  {
   "cell_type": "code",
   "execution_count": null,
   "metadata": {},
   "outputs": [],
   "source": [
    "export PGPASSWORD=\"sonarqube\";\n",
    "export Endpoints_IP_Addr=`kubectl -n $NAMESPACE get service pgsql-svc1 --output jsonpath='{.status.loadBalancer.ingress[0].ip}'`;\n",
    "psql -U sonarqube sonarqube9 -h $Endpoints_IP_Addr -c \"SELECT VERSION();\"\n"
   ]
  },
  {
   "cell_type": "markdown",
   "metadata": {},
   "source": [
    "</br></br>\n",
    "<div class=\"alert\" style=\"background-color:#FFAD33;color:#fff;width:100%\" role=\"alert\">\n",
    "  <p style=\"font-size:20px;display: block;text-align:center;margin-left: auto;margin-right: auto;\"><i class=\"fas fa-4x fa-smile\"></i>&nbsp;&nbsp;Congratulations on completing the module&nbsp;&nbsp;<i class=\"fas fa-4x fa-praying-hands\"></i></p>\n",
    "</div>  "
   ]
  },
  {
   "cell_type": "markdown",
   "metadata": {},
   "source": [
    "<br><br>\n",
    "\n",
    "## <i class=\"fas fa-2x fa-map-marker-alt\" style=\"color:#FFAD33;\"></i>&nbsp;&nbsp;Next Steps\n",
    "\n",
    "Deploy SonarQube EE Application : create PVC,POD,Services,Deployment"
   ]
  },
  {
   "cell_type": "markdown",
   "metadata": {},
   "source": [
    " <a href=\"k8slabs2.ipynb#begin\" target=\"New\" title=\"Next: Create a Workload : Deploy SonarQube EE\"><button type=\"submit\"  class=\"btn btn-lg btn-block\" style=\"background-color:#FFAD33;color:#fff;position:relative;width:10%; height: 30px;float: right;\"><b>Next</b></button></a>\n",
    " <a href=\"k8scomponents.ipynb#deploybdc\" target=\"New\" title=\"Back: Main Kubernete components\"><button type=\"submit\"  class=\"btn btn-lg btn-block\" style=\"background-color:#FFAD33;color:#fff;position:relative;width:10%; height: 30px;float: left;\"><b>Back</b></button></a>"
   ]
  },
  {
   "cell_type": "code",
   "execution_count": null,
   "metadata": {},
   "outputs": [],
   "source": []
  }
 ],
 "metadata": {
  "kernelspec": {
   "display_name": "Bash",
   "language": "bash",
   "name": "bash"
  },
  "language_info": {
   "codemirror_mode": "shell",
   "file_extension": ".sh",
   "mimetype": "text/x-sh",
   "name": "bash"
  }
 },
 "nbformat": 4,
 "nbformat_minor": 4
}
