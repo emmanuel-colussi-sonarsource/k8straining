{
 "cells": [
  {
   "cell_type": "markdown",
   "metadata": {},
   "source": [
    "<link rel=\"stylesheet\" type=\"text/css\" href=\"css/bootstrap.min.css\">\n",
    "<link rel=\"stylesheet\" type=\"text/css\" href=\"css/fontawesome.min.css\">\n",
    "<style type=\"text/css\" media=\"screen\">\n",
    "a:link { color:#FFFFFF; text-decoration: none; }\n",
    "a:visited { color:#FFFFFF; text-decoration: none; }\n",
    "a:hover { color:#FFFFFF; text-decoration: none; }\n",
    "a:active { color:#FFFFFF; text-decoration: underline; }\n",
    "</style>\n",
    "\n",
    "<img src=\"imgs/Kubernetes_banner.jpg\" alt=\"drawing\" width=\"800px\" height=\"280px\"/>\n",
    "<br>\n",
    "<a id=\\\"comp\\\" style=\\\"text-decoration:none;\\\"><h1>Using SonarQube on kubernetes cluster</h1></a>\n",
    "\n",
    "#### Troubleshooting SonarQube EE Application\n",
    "<br>\n",
    "<br>\n",
    "\n",
    "Emmanuel COLUSSI – Sales Engineer\n",
    "\n"
   ]
  },
  {
   "cell_type": "markdown",
   "metadata": {},
   "source": [
    "<br>\n",
    "<br>\n",
    "<br>\n",
    "\n",
    "## <i class=\"far fa-2x fa-comment-dots\" style=\"color:#FFAD33;\"></i>&nbsp;&nbsp;Notice"
   ]
  },
  {
   "cell_type": "markdown",
   "metadata": {},
   "source": [
    "<p>In this module you will see how to : </p>\n",
    "<ul>\n",
    "<li> read sonarqube </li>\n",
    "<li> logs to access them </li>\n",
    "<li> ...</li>\n",
    "</ul>    \n",
    "\n",
    "<p>We will connect to an AKS cluster with 2 nodes.We will use the command line tool (<b>kubectl</b>)</p>\n",
    "<p>Kubernetes provides a command line tool for communicating with a kubernetes cluster's control plane,using the kubernetes API<p>"
   ]
  },
  {
   "cell_type": "markdown",
   "metadata": {},
   "source": [
    "<i class=\"fas fa-2x fa-walking\" style=\"color:#FFAD33;\"></i>&nbsp;&nbsp;STEP 1: Show pods logs"
   ]
  },
  {
   "cell_type": "markdown",
   "metadata": {},
   "source": [
    "<div class=\"alert\" style=\"background-color:#FFAD33;color:#fff;\" role=\"alert\">\n",
    "  <p class=\"mb-0\"><i class=\"fas fa-sync-alt\"></i>&nbsp;&nbsp;Run the commands in the next Cells with button <i class=\"fas fa-play\"></i> </p>\n",
    "   <hr>\n",
    "  <p class=\"mb-0\">These commands list the pods in the namespace where sonarqube is installed</p>\n",
    "    <p>You must initialize the following variable : before replace X by your stundent number</p>\n",
    "    <ul>\n",
    "        <li>export NAMESPACE=\"studentX\"</li>\n",
    "    </ul> \n",
    "</div>"
   ]
  },
  {
   "cell_type": "code",
   "execution_count": 1,
   "metadata": {},
   "outputs": [
    {
     "name": "stdout",
     "output_type": "stream",
     "text": [
      "\u001b[?2004l\n",
      "\u001b[?2004h\u001b[?2004l\n",
      "\u001b[?2004h"
     ]
    },
    {
     "ename": "",
     "evalue": "1",
     "output_type": "error",
     "traceback": []
    }
   ],
   "source": [
    "export NAMESPACE=\"student1\";\n",
    "SONAR_POD=`kubectl -n $NAMESPACE get pods |grep sonar|awk '{print $1}'`;"
   ]
  },
  {
   "cell_type": "markdown",
   "metadata": {},
   "source": [
    "<div class=\"alert\" style=\"background-color:#FFAD33;color:#fff;\" role=\"alert\">\n",
    "  \n",
    "  <p><i class=\"fas fa-eye\"></i>&nbsp;&nbsp;Show logs for the pod : </p>\n",
    "    <hr>\n",
    "    <p class=\"mb-0\"><i class=\"fas fa-sync-alt\"></i>&nbsp;&nbsp;Run the following command in the next Cell with button <i class=\"fas fa-play\"></i> </p>\n",
    " \n",
    "</div>"
   ]
  },
  {
   "cell_type": "code",
   "execution_count": null,
   "metadata": {},
   "outputs": [],
   "source": [
    "kubectl -n $NAMESPACE logs $SONAR_POD"
   ]
  },
  {
   "cell_type": "markdown",
   "metadata": {},
   "source": [
    "<i class=\"fas fa-2x fa-walking\" style=\"color:#FFAD33;\"></i>&nbsp;&nbsp;STEP 2: Access to the log volume"
   ]
  },
  {
   "cell_type": "markdown",
   "metadata": {
    "tags": []
   },
   "source": [
    "<div class=\"alert\" style=\"background-color:#FFAD33;color:#fff;\" role=\"alert\">\n",
    "    <p>Go to Terminal windows</p>\n",
    "     <p>You must initialize the following variable before replace X by your stundent number</p>\n",
    "    <ul>\n",
    "        <li>export NAMESPACE=\"studentX\"</li>\n",
    "    </ul> \n",
    "    And copy / paste the commands (one by one) that are in the next cell into the terminal window\n",
    " \n",
    "</div>"
   ]
  },
  {
   "cell_type": "raw",
   "metadata": {},
   "source": [
    "export NAMESPACE=\"student1\";\n",
    "SONAR_POD=`kubectl -n $NAMESPACE get pods |grep sonar|awk '{print $1}'`;"
   ]
  },
  {
   "cell_type": "markdown",
   "metadata": {},
   "source": [
    "<div class=\"alert\" style=\"background-color:#FFAD33;color:#fff;\" role=\"alert\">\n",
    "    <p class=\"mb-0\"><i class=\"fas fa-sync-alt\"></i>&nbsp;&nbsp;copy / paste the command that are in the next cell into the terminal window  </p>\n",
    "    <p>This command open a bash access on SonarQube POD</p>\n",
    " \n",
    "</div>"
   ]
  },
  {
   "cell_type": "raw",
   "metadata": {},
   "source": [
    "kubectl -n $NAMESPACE exec $SONAR_POD -c sonarqube -it -- /bin/bash"
   ]
  },
  {
   "cell_type": "markdown",
   "metadata": {},
   "source": [
    "<div class=\"alert\" style=\"background-color:#FFAD33;color:#fff;\" role=\"alert\">\n",
    "    <p class=\"mb-0\"><i class=\"fas fa-hand-point-right\"></i>&nbsp;&nbsp;Now you can access the SonarQube logs directory: </p>\n",
    "    <p>You can execute (copy / paste) the following commands (in next cell) in the terminal window</p>\n",
    " \n",
    "</div>"
   ]
  },
  {
   "cell_type": "raw",
   "metadata": {},
   "source": [
    "cd logs\n",
    "tail -f web.log"
   ]
  },
  {
   "cell_type": "markdown",
   "metadata": {},
   "source": [
    "<i class=\"fas fa-hand-point-right\" style=\"color:#FFAD33;\"></i><b>&nbsp;&nbsp;To exit the connection to POD SonarQube type the command <b>exit</b> in the terminal window. "
   ]
  },
  {
   "cell_type": "markdown",
   "metadata": {},
   "source": [
    "<i class=\"fas fa-2x fa-walking\" style=\"color:#FFAD33;\"></i>&nbsp;&nbsp;STEP 3: Get SonarQube Logs"
   ]
  },
  {
   "cell_type": "markdown",
   "metadata": {},
   "source": [
    "<div class=\"alert\" style=\"background-color:#FFAD33;color:#fff;\" role=\"alert\">\n",
    "  \n",
    "  <p><i class=\"fas fa-eye\"></i>&nbsp;&nbsp;Get SonarQube Logs : </p>\n",
    "    <hr>\n",
    "    <p class=\"mb-0\"><i class=\"fas fa-sync-alt\"></i>&nbsp;&nbsp;Run the following command in the next Cell with button <i class=\"fas fa-play\"></i> </p>\n",
    "    <p>A warning is displayed, ignore it : <b>tar: Removing leading `/' from member names</b>\n",
    "\n",
    " \n",
    "</div>"
   ]
  },
  {
   "cell_type": "code",
   "execution_count": 2,
   "metadata": {},
   "outputs": [
    {
     "name": "stdout",
     "output_type": "stream",
     "text": [
      "\u001b[?2004l\n",
      "tar: Removing leading `/' from member names\n",
      "\u001b[?2004h"
     ]
    },
    {
     "ename": "",
     "evalue": "1",
     "output_type": "error",
     "traceback": []
    }
   ],
   "source": [
    "kubectl -n $NAMESPACE cp -c sonarqube $SONAR_POD:/opt/sonarqube/logs/ sonarlogs"
   ]
  },
  {
   "cell_type": "markdown",
   "metadata": {},
   "source": [
    "<div class=\"alert\" style=\"background-color:#FFAD33;color:#fff;\" role=\"alert\">\n",
    "  \n",
    "  <p><i class=\"fas fa-eye\"></i>&nbsp;&nbsp;Check if logs is written locally successfully : </p>\n",
    "    <hr>\n",
    "    <p class=\"mb-0\"><i class=\"fas fa-sync-alt\"></i>&nbsp;&nbsp;Run the following command in the next Cell with button <i class=\"fas fa-play\"></i> </p>\n",
    " \n",
    "</div>"
   ]
  },
  {
   "cell_type": "code",
   "execution_count": 3,
   "metadata": {},
   "outputs": [
    {
     "name": "stdout",
     "output_type": "stream",
     "text": [
      "\u001b[?2004l\n",
      "access.2023-03-20.log\tce.log\t\t\tsonar.log\n",
      "access.log\t\tes.log\t\t\tweb.2023-03-20.log\n",
      "ce.2023-03-20.log\tlost+found\t\tweb.log\n",
      "\u001b[?2004h"
     ]
    },
    {
     "ename": "",
     "evalue": "1",
     "output_type": "error",
     "traceback": []
    }
   ],
   "source": [
    "ls sonarlogs"
   ]
  },
  {
   "cell_type": "markdown",
   "metadata": {},
   "source": [
    "<i class=\"fas fa-2x fa-walking\" style=\"color:#FFAD33;\"></i>&nbsp;&nbsp;STEP 4: Troubleshooting Common Kubernetes Errors"
   ]
  },
  {
   "cell_type": "markdown",
   "metadata": {},
   "source": [
    "<p>If you are experiencing one of these common Kubernetes errors, here’s a quick guide to identifying and resolving the problem:</p>\n",
    "<ul>\n",
    "    <li>CreateContainerConfigError </li>\n",
    "    <li>ImagePullBackOff or ErrImagePull</li>\n",
    "    <li>CrashLoopBackOff</li>\n",
    "  </ul>\n",
    "\n"
   ]
  },
  {
   "cell_type": "markdown",
   "metadata": {},
   "source": [
    "<i class=\"fas fa-hand-point-right\" style=\"color:#FFAD33;\"></i><b>&nbsp;&nbsp;<b>CreateContainerConfigError</b>"
   ]
  },
  {
   "cell_type": "markdown",
   "metadata": {},
   "source": [
    "<p>This error is usually the result of a missing Secret or ConfigMap. Secrets are Kubernetes objects used to store sensitive information like database credentials. ConfigMaps store data as key-value pairs, and are typically used to hold configuration information used by multiple pods.</p>\n",
    "<p>How to identify the issue ?</p>\n",
    "\n",
    "Run <b>kubectl -n [namespace] get pods</b> .\n",
    "\n",
    "Check the output to see if the pod’s status is <b>CreateContainerConfigError</b>"
   ]
  },
  {
   "cell_type": "raw",
   "metadata": {},
   "source": [
    "$ kubectl -n sonarqube get pods \n",
    "NAME            READY   STATUS                       RESTARTS   AGE\n",
    "sonarqube-app   0/1     CreateContainerConfigError   0          1m23s"
   ]
  },
  {
   "cell_type": "markdown",
   "metadata": {},
   "source": [
    "<p>Getting detailed information and resolving the issue</p>\n",
    "\n",
    "<p>To get more information about the issue, run <b>kubectl -n [namespace] describe [pod_name]</b> and look for a message </p>"
   ]
  },
  {
   "cell_type": "raw",
   "metadata": {},
   "source": [
    "QoS Class:                   BestEffort\n",
    "Node-Selectors:              <none>\n",
    "Tolerations:                 node.kubernetes.io/not-ready:NoExecute op=Exists for 300s\n",
    "                             node.kubernetes.io/unreachable:NoExecute op=Exists for 300s\n",
    "Events:\n",
    "  Type     Reason     Age                    From               Message\n",
    "  ----     ------     ----                   ----               -------\n",
    "  Normal   Scheduled  4m30s                  default-scheduler  Successfully assigned student1/postgres-699f8bc67c-qjlcg to aks-se2akspool-26577560-vmss000004\n",
    "  Normal   Pulling    4m30s                  kubelet            Pulling image \"postgres:13.9\"\n",
    "  Normal   Pulled     4m23s                  kubelet            Successfully pulled image \"postgres:13.9\" in 7.235878444s\n",
    "  Normal   Created    2m50s (x5 over 4m23s)  kubelet            Created container postgres\n",
    "  Normal   Started    2m50s (x5 over 4m22s)  kubelet            Started container postgres\n",
    "  Normal   Pulled     2m50s (x4 over 4m16s)  kubelet            Container image \"postgres:13.9\" already present on machine\n",
    "  Warning  BackOff    2m22s (x9 over 4m14s)  kubelet            Back-off restarting failed container"
   ]
  },
  {
   "cell_type": "markdown",
   "metadata": {},
   "source": [
    "<i class=\"fas fa-hand-point-right\" style=\"color:#FFAD33;\"></i><b>&nbsp;&nbsp;<b>ImagePullBackOff or ErrImagePull</b>"
   ]
  },
  {
   "cell_type": "markdown",
   "metadata": {},
   "source": [
    "<p>This status means that a pod could not run because it attempted to pull a container image from a registry, and failed. The pod refuses to start because it cannot create one or more containers defined in its manifest.</p>\n",
    "<p>How to identify the issue?</p>\n",
    "\n",
    "<p>Run the command <b>kubectl -n [namespace] get pods</b>\n",
    "\n",
    "<p>Check the output to see if the pod status is <b>ImagePullBackOff or ErrImagePull:</b>"
   ]
  },
  {
   "cell_type": "raw",
   "metadata": {},
   "source": [
    "$ kubectl -n sonarqube get pods\n",
    "NAME            READY    STATUS             RESTARTS   AGE\n",
    "sonarqube-app   0/1      ImagePullBackOff   0          58s\n"
   ]
  },
  {
   "cell_type": "markdown",
   "metadata": {},
   "source": [
    "<p>Getting detailed information and resolving the issue</p>\n",
    "\n",
    "<p>Run the kubectl describe pod [name] command for the problematic pod.</p>\n",
    "\n",
    "<p>The output of this command will indicate the root cause of the issue. This can be one of the following:</p>\n",
    "<ul>\n",
    "    <li>Wrong image name or tag—this typically happens because the image name or tag was typed incorrectly in the pod manifest. Verify the correct image name using docker pull, and correct it in the pod manifest.</li>\n",
    "    <li>Authentication issue in Container registry—the pod could not authenticate with the registry to retrieve the image. This could happen because of an issue in the Secret holding credentials, or because the pod does not have an RBAC role that allows it to perform the operation. Ensure the pod and node have the appropriate permissions and Secrets, then try the operation manually using docker pull.</li>\n",
    "</ul>\n"
   ]
  },
  {
   "cell_type": "markdown",
   "metadata": {},
   "source": [
    "<i class=\"fas fa-hand-point-right\" style=\"color:#FFAD33;\"></i><b>&nbsp;&nbsp;<b>CrashLoopBackOff</b>\n",
    "\n",
    "<p>This issue indicates a pod cannot be scheduled on a node. This could happen because the node does not have sufficient resources to run the pod, or because the pod did not succeed in mounting the requested volumes.</p>\n",
    "<p>How to identify the issue?</p>\n",
    "\n",
    "<p>Run the command <b>kubectl -n [namespace] get pods</b>.</p>\n",
    "\n",
    "Check the output to see if the pod status is <b>CrashLoopBackOff</b>"
   ]
  },
  {
   "cell_type": "raw",
   "metadata": {},
   "source": [
    "$ kubectl -n sonarqube get pods\n",
    "NAME            READY    STATUS             RESTARTS   AGE\n",
    "sonarqube-app   0/1      CrashLoopBackOff   0          58s\n"
   ]
  },
  {
   "cell_type": "markdown",
   "metadata": {},
   "source": [
    "<p>Getting detailed information and resolving the issue</p>\n",
    "\n",
    "<p>Run the kubectl describe pod [name] command for the problematic pod:</p>\n",
    "\n",
    "<p>The output will help you identify the cause of the issue. Here are the common causes:</p>\n",
    "<ul>\n",
    "    <li>Insufficient resources—if there are insufficient resources on the node, you can manually evict pods from the node or scale up your cluster to ensure more nodes are available for your pods.</li>\n",
    "   <li> Volume mounting—if you see the issue is mounting a storage volume, check which volume the pod is trying to mount, ensure it is defined correctly in the pod manifest, and see that a storage volume with those definitions is available.<l/i>\n",
    "    <li>Use of hostPort—if you are binding pods to a hostPort, you may only be able to schedule one pod per node. In most cases you can avoid using hostPort and use a Service object to enable communication with your pod.</li>\n"
   ]
  },
  {
   "cell_type": "markdown",
   "metadata": {},
   "source": [
    "</br></br>\n",
    "<div class=\"alert\" style=\"background-color:#FFAD33;color:#fff;width:100%\" role=\"alert\">\n",
    "  <p style=\"font-size:20px;display: block;text-align:center;margin-left: auto;margin-right: auto;\"><i class=\"fas fa-4x fa-smile\"></i>&nbsp;&nbsp;Congratulations on completing the module&nbsp;&nbsp;<i class=\"fas fa-4x fa-praying-hands\"></i></p>\n",
    "</div>  "
   ]
  },
  {
   "cell_type": "markdown",
   "metadata": {},
   "source": [
    "<br><br>\n",
    "\n",
    "## <i class=\"fas fa-2x fa-map-marker-alt\" style=\"color:#FFAD33;\"></i>&nbsp;&nbsp;Next Steps\n",
    "\n",
    "Conclusion"
   ]
  },
  {
   "cell_type": "markdown",
   "metadata": {},
   "source": [
    " <a href=\"k8slabs-end.ipynb#begin\" target=\"New\" title=\"Next: Conclusion\"><button type=\"submit\"  class=\"btn btn-lg btn-block\" style=\"background-color:#FFAD33;color:#fff;position:relative;width:10%; height: 30px;float: right;\"><b>Next</b></button></a>\n",
    " <a href=\"k8slabs2.ipynb#deploybdc\" target=\"New\" title=\"Back: Deploy SonarQube EE Application\"><button type=\"submit\"  class=\"btn btn-lg btn-block\" style=\"background-color:#FFAD33;color:#fff;position:relative;width:10%; height: 30px;float: left;\"><b>Back</b></button></a>"
   ]
  }
 ],
 "metadata": {
  "kernelspec": {
   "display_name": "Bash",
   "language": "bash",
   "name": "bash"
  },
  "language_info": {
   "codemirror_mode": "shell",
   "file_extension": ".sh",
   "mimetype": "text/x-sh",
   "name": "bash"
  }
 },
 "nbformat": 4,
 "nbformat_minor": 4
}
